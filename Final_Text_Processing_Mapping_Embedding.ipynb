{
  "nbformat": 4,
  "nbformat_minor": 0,
  "metadata": {
    "colab": {
      "name": "Final_Text_Processing_Mapping_Embedding.ipynb",
      "provenance": [],
      "collapsed_sections": [
        "IoKsSo5CkDBf",
        "Tse5SgGxK8ex",
        "OCHmR8ThmJbg",
        "jA5QqaSSVgad",
        "cILeKCfRiJGP",
        "eE_R96fOlSqk",
        "mSlEuwmdlNRG",
        "juiZ57uElW8a"
      ],
      "include_colab_link": true
    },
    "kernelspec": {
      "name": "python3",
      "display_name": "Python 3"
    },
    "language_info": {
      "name": "python"
    },
    "gpuClass": "standard"
  },
  "cells": [
    {
      "cell_type": "markdown",
      "metadata": {
        "id": "view-in-github",
        "colab_type": "text"
      },
      "source": [
        "<a href=\"https://colab.research.google.com/github/manishrawat2022/ReStock/blob/main/Final_Text_Processing_Mapping_Embedding.ipynb\" target=\"_parent\"><img src=\"https://colab.research.google.com/assets/colab-badge.svg\" alt=\"Open In Colab\"/></a>"
      ]
    },
    {
      "cell_type": "markdown",
      "source": [
        "# Imports"
      ],
      "metadata": {
        "id": "JexBZTwhjs8i"
      }
    },
    {
      "cell_type": "code",
      "source": [
        "# Importing all required libraries\n",
        "\n",
        "import pandas as pd\n",
        "import numpy as np\n",
        "\n",
        "import re\n",
        "import sys\n",
        "\n",
        "import nltk\n",
        "from nltk.corpus import stopwords\n",
        "from nltk.stem.wordnet import WordNetLemmatizer\n",
        "\n",
        "from tensorflow.keras.models import save_model"
      ],
      "metadata": {
        "id": "M_QuSRDVA5n0"
      },
      "execution_count": null,
      "outputs": []
    },
    {
      "cell_type": "code",
      "source": [
        "# Requirements for nltk\n",
        "nltk.download('stopwords', quiet=True)\n",
        "nltk.download('wordnet', quiet=True)\n",
        "nltk.download('punkt', quiet=True)\n",
        "nltk.download('omw-1.4', quiet=True)"
      ],
      "metadata": {
        "colab": {
          "base_uri": "https://localhost:8080/"
        },
        "id": "Y9lU-ipggZI5",
        "outputId": "0328174c-864f-4855-b8e9-48d22ad28b0d"
      },
      "execution_count": null,
      "outputs": [
        {
          "output_type": "execute_result",
          "data": {
            "text/plain": [
              "True"
            ]
          },
          "metadata": {},
          "execution_count": 3
        }
      ]
    },
    {
      "cell_type": "markdown",
      "source": [
        "# Read Data"
      ],
      "metadata": {
        "id": "IsJiDyGMXDGH"
      }
    },
    {
      "cell_type": "code",
      "source": [
        "#path = \"/content/drive/MyDrive/Capstone_Project/Data\"\n",
        "\n",
        "#df_nse = pd.read_csv('/content/drive/MyDrive/Capstone_Project/Data/data_nse_1.csv')\n",
        "#df_hdfc = pd.read_csv('/content/drive/MyDrive/Capstone_Project/Data/HDFCBANK.csv')\n",
        "#df_mm = pd.read_csv('/content/drive/MyDrive/Capstone_Project/Data/M&M.csv')\n",
        "#df_mc = pd.read_csv('/content/Data_mc_v2.csv')\n",
        "#df_nse = pd.read_csv('/content/data_nse_1.csv')\n",
        "\n",
        "#df_mc = pd.read_csv('/content/drive/MyDrive/Capstone_Project/Data/Data_mc_v4.csv')\n",
        "#df_nse = pd.read_csv('/content/drive/MyDrive/Capstone_Project/Data/Final/nse_data/HDFCBANK.csv')\n",
        "\n",
        "#df_mc = pd.read_csv('/content/drive/MyDrive/Capstone_Project/Data/Final/moneycontrol_data/Data_mc_v6.csv')\n",
        "df_nse = pd.read_csv('/content/drive/MyDrive/Capstone_Project/Data/Final/nse_data/M&M.csv')\n",
        "#df_nse = pd.read_csv('/content/drive/MyDrive/Capstone_Project/Data/SBIN.csv')\n",
        "# Dataset is now stored in a Pandas Dataframe\n",
        "\n",
        "df_mc = pd.read_csv('/content/drive/MyDrive/Capstone_Project/Data/Final/moneycontrol_data/Data_mc_v6.csv')\n",
        "#df_nse = pd.read_csv('/content/drive/MyDrive/Capstone_Project/Data/Final/nse_data/SBIN.csv')\n",
        "#df_nse = pd.read_csv('/content/drive/MyDrive/Capstone_Project/Data/Final/nse_data/nifty_bank.csv')\n",
        "#df_nse = pd.read_csv('/content/drive/MyDrive/Capstone_Project/Data/Final/nse_data/nifty50.csv')\n"
      ],
      "metadata": {
        "id": "79YFVaF_AQPB"
      },
      "execution_count": null,
      "outputs": []
    },
    {
      "cell_type": "markdown",
      "source": [
        "# Text Cleaning Function"
      ],
      "metadata": {
        "id": "vgCM_NFfz_G7"
      }
    },
    {
      "cell_type": "code",
      "source": [
        "# replace punctuations with space\n",
        "def remove_punc(text):\n",
        "  return re.sub('[^a-zA-Z]',' ', str(text))\n",
        "\n",
        "# lower case\n",
        "def lower_case(text):\n",
        "  return text.lower()\n",
        "\n",
        "# Remove tags\n",
        "def remove_tags(text):\n",
        "  return re.sub(\"&lt;/?.*?&gt;\",\"&lt;&gt; \", text)\n",
        "\n",
        "# Remove special characters and digits\n",
        "def remove_special_chars_and_digits(text):\n",
        "  return re.sub(\"(\\\\d|\\\\W)+\",\" \", text)\n",
        "\n",
        "# Create tokens\n",
        "def run_nltk_tokenizer(text):\n",
        "  tokens = nltk.word_tokenize(text)\n",
        "  return tokens\n",
        "\n",
        "# Remove stop words\n",
        "def remove_stop_words(text):\n",
        "  stop_words = set(stopwords.words('english'))-set(['no','not'])\n",
        "  word_tokens =run_nltk_tokenizer(text)\n",
        "  filtered_sentence = []\n",
        "  for w in word_tokens:\n",
        "    if w not in stop_words:\n",
        "      filtered_sentence.append(w)\n",
        "  return filtered_sentence\n",
        "\n",
        "# Perform lemmatization\n",
        "def apply_lemmatization(wlist):\n",
        "  lem= WordNetLemmatizer()\n",
        "  output = ' '.join([lem.lemmatize(w) for w in wlist])\n",
        "  return output\n",
        "\n",
        "# Full Cleaning text\n",
        "def normalize(text):\n",
        "  text = remove_punc(text)\n",
        "  text = lower_case(text)\n",
        "  text = remove_tags(text)\n",
        "  text = remove_special_chars_and_digits(text)\n",
        "  text = remove_stop_words(text)\n",
        "  text = apply_lemmatization(text)\n",
        "  return text"
      ],
      "metadata": {
        "id": "-F5rgNQ3gyyJ"
      },
      "execution_count": null,
      "outputs": []
    },
    {
      "cell_type": "markdown",
      "source": [
        "# Date Selection for data"
      ],
      "metadata": {
        "id": "KGB1haLY_mjv"
      }
    },
    {
      "cell_type": "code",
      "source": [
        "# Select dates for which news is present\n",
        "start = min(df_mc.Date)\n",
        "end = max(df_mc.Date)"
      ],
      "metadata": {
        "id": "6zXJ75ARi0uI"
      },
      "execution_count": null,
      "outputs": []
    },
    {
      "cell_type": "code",
      "source": [
        "# Select Dates\n",
        "df1 = df_nse[(df_nse.Date>=start)& (df_nse.Date<=end)]"
      ],
      "metadata": {
        "id": "rB6crObO97if"
      },
      "execution_count": null,
      "outputs": []
    },
    {
      "cell_type": "markdown",
      "source": [
        "# Text Processing"
      ],
      "metadata": {
        "id": "IoKsSo5CkDBf"
      }
    },
    {
      "cell_type": "code",
      "source": [
        "df_mc['cleaned_title']=df_mc['title'].apply(normalize)"
      ],
      "metadata": {
        "id": "FYfG58NTrsLe"
      },
      "execution_count": null,
      "outputs": []
    },
    {
      "cell_type": "code",
      "source": [
        "df_mc['cleaned_desc']=df_mc['desc'].apply(normalize)"
      ],
      "metadata": {
        "id": "sxs5BZ90r5BV"
      },
      "execution_count": null,
      "outputs": []
    },
    {
      "cell_type": "code",
      "source": [
        "df_mc['cleaned_content']=df_mc['content'].apply(normalize)"
      ],
      "metadata": {
        "id": "ZajYRkXmr8Sf"
      },
      "execution_count": null,
      "outputs": []
    },
    {
      "cell_type": "markdown",
      "source": [
        "# Group df_mc by date"
      ],
      "metadata": {
        "id": "Tse5SgGxK8ex"
      }
    },
    {
      "cell_type": "code",
      "source": [
        "# Grouping by date to bring all news items as per date\n",
        "a=df_mc.astype({\"desc\": str, \"content\": str}).groupby('Date', as_index = False) # Removes null values in content column\n",
        "A=a.agg({'cleaned_title': ' '.join,\n",
        "       'cleaned_desc': ' '.join,\n",
        "      'cleaned_content': ' '.join})"
      ],
      "metadata": {
        "id": "_Xx4nrduNH2s"
      },
      "execution_count": null,
      "outputs": []
    },
    {
      "cell_type": "code",
      "source": [
        "B=A.copy()"
      ],
      "metadata": {
        "id": "QzwaKwEUUvJx"
      },
      "execution_count": null,
      "outputs": []
    },
    {
      "cell_type": "code",
      "source": [
        "# Selecting news data as per avaialble stock data\n",
        "C=A[A.Date<=max(df_nse.Date)]"
      ],
      "metadata": {
        "id": "xp8mkfTTuli5"
      },
      "execution_count": null,
      "outputs": []
    },
    {
      "cell_type": "code",
      "source": [
        "# Outer join of hdfc data and moneycontrol news data\n",
        "join1=pd.merge(left=df1, right=C, on= 'Date', how='outer')#.to_csv('hdfcmergeouter_samedates.csv')#join1="
      ],
      "metadata": {
        "id": "oe2p9mFHvH_6"
      },
      "execution_count": null,
      "outputs": []
    },
    {
      "cell_type": "markdown",
      "source": [
        "# Joining datasets"
      ],
      "metadata": {
        "id": "zK6xUO_uwEAQ"
      }
    },
    {
      "cell_type": "code",
      "source": [
        "# sort by date\n",
        "join2=join1.sort_values(by=['Date'],ignore_index=True )"
      ],
      "metadata": {
        "id": "9iIXAsUvwU8p"
      },
      "execution_count": null,
      "outputs": []
    },
    {
      "cell_type": "code",
      "source": [
        "# Where closing price is null (Sat,Sun, Holidays) replace date by null\n",
        "cond = join2[\"Close\"].isnull()\n",
        "join2.loc[cond, \"Date\"] = np.nan"
      ],
      "metadata": {
        "id": "eC0DEGWk21Md"
      },
      "execution_count": null,
      "outputs": []
    },
    {
      "cell_type": "code",
      "source": [
        "# Forward fill null dates with previous value\n",
        "join2[\"Date\"].ffill(inplace=True)"
      ],
      "metadata": {
        "id": "w2xMdbAu4tPL"
      },
      "execution_count": null,
      "outputs": []
    },
    {
      "cell_type": "code",
      "source": [
        "join3 = join2.copy()"
      ],
      "metadata": {
        "id": "igxWgNYg5UfZ"
      },
      "execution_count": null,
      "outputs": []
    },
    {
      "cell_type": "code",
      "source": [
        "# Grouping by date again to join remaining text data, and taking relevant variables\n",
        "join4 = join3.groupby('Date', as_index = False).agg({'cleaned_title': ' '.join,\n",
        "                                             'cleaned_desc': ' '.join,\n",
        "                                              'cleaned_content': ' '.join,\n",
        "                                            #  'Prev Close':sum,\n",
        "                                              'Open': sum,\n",
        "                                              'High':sum,\n",
        "                                              'Low':sum,\n",
        "                                              'Close':sum,\n",
        "                                              'Volume':sum\n",
        "                                               })"
      ],
      "metadata": {
        "id": "0z7IhAkF5VpU"
      },
      "execution_count": null,
      "outputs": []
    },
    {
      "cell_type": "markdown",
      "source": [
        "# Dataset creation"
      ],
      "metadata": {
        "id": "Z4n3i3yOAXdc"
      }
    },
    {
      "cell_type": "code",
      "source": [
        "dataset = join4.copy()"
      ],
      "metadata": {
        "id": "EnPwxnySAYvc"
      },
      "execution_count": null,
      "outputs": []
    },
    {
      "cell_type": "code",
      "source": [
        "# adding percentage change feature\n",
        "change = []\n",
        "\n",
        "for i in range(len(dataset['Close'])) :\n",
        "  if i==0:      # return zero for first value\n",
        "    temp = 0\n",
        "  else:\n",
        "    temp = (dataset['Close'].iloc[i]- dataset['Close'].iloc[(i-1)])*100/dataset['Close'].iloc[(i-1)]\n",
        "  \n",
        "  change.append(round(temp,2))\n",
        "\n",
        "\n",
        "#dataset['percent_change'] = (dataset['Close']- dataset['Prev Close'])/dataset['Prev Close']\n",
        "\n",
        "dataset['percent_change'] = np.array(change)"
      ],
      "metadata": {
        "id": "zANTbZ8mAm3W"
      },
      "execution_count": null,
      "outputs": []
    },
    {
      "cell_type": "code",
      "source": [
        "def sentiment(value): \n",
        "  if value>0:\n",
        "    return 'positive'\n",
        "  elif value<0:\n",
        "    return 'negative'\n",
        "  else:\n",
        "    return 'neutral'"
      ],
      "metadata": {
        "id": "5hgT0jZjEGhF"
      },
      "execution_count": null,
      "outputs": []
    },
    {
      "cell_type": "code",
      "source": [
        "dataset['sentiment']= dataset['percent_change'].apply(sentiment)"
      ],
      "metadata": {
        "id": "xZtD8rJtE1MW"
      },
      "execution_count": null,
      "outputs": []
    },
    {
      "cell_type": "code",
      "source": [
        "# Final dataset\n",
        "#sym = df_nse.Symbol[0]\n",
        "sym = 'M&M'\n",
        "dataset.to_csv(f'dataset_{sym}.csv',index=False)"
      ],
      "metadata": {
        "id": "u7LAlRkbQuVM"
      },
      "execution_count": null,
      "outputs": []
    },
    {
      "cell_type": "markdown",
      "source": [
        "# EDA"
      ],
      "metadata": {
        "id": "iT7TxertUJQZ"
      }
    },
    {
      "cell_type": "code",
      "source": [
        "from nltk.stem.wordnet import WordNetLemmatizer\n",
        "from nltk.stem import PorterStemmer\n",
        "import string\n",
        "\n",
        "from nltk.corpus import stopwords\n",
        "\n",
        "from gensim.models import Word2Vec\n",
        "from gensim.models.doc2vec import Doc2Vec, TaggedDocument\n",
        "\n",
        "from sklearn.feature_extraction.text import CountVectorizer\n",
        "from sklearn.feature_extraction.text import TfidfVectorizer\n",
        "\n",
        "from sklearn.manifold import TSNE\n",
        "from sklearn.metrics.pairwise import cosine_similarity"
      ],
      "metadata": {
        "id": "r7fmbjA-VYhS"
      },
      "execution_count": null,
      "outputs": []
    },
    {
      "cell_type": "code",
      "source": [
        "portfolio = ['auto', 'bank', 'oil', 'pharmaceutical', 'cement', 'technology']"
      ],
      "metadata": {
        "id": "YkKR59OTI2Nj"
      },
      "execution_count": null,
      "outputs": []
    },
    {
      "cell_type": "markdown",
      "source": [
        "## TF-IDF Experiment"
      ],
      "metadata": {
        "id": "OCHmR8ThmJbg"
      }
    },
    {
      "cell_type": "code",
      "source": [
        "def dummy_fun(doc):\n",
        "    return doc\n",
        "\n",
        "tfidf = TfidfVectorizer(\n",
        "    analyzer='word',\n",
        "    tokenizer=dummy_fun,\n",
        "    preprocessor=dummy_fun,\n",
        "    token_pattern=None,\n",
        "    stop_words = 'english')"
      ],
      "metadata": {
        "id": "sdlZfHogkgjq"
      },
      "execution_count": null,
      "outputs": []
    },
    {
      "cell_type": "code",
      "source": [
        "vectorizer_tfidf = TfidfVectorizer(stop_words = set(nltk.corpus.stopwords.words('english')))"
      ],
      "metadata": {
        "id": "UFyMQ7OYmNL0"
      },
      "execution_count": null,
      "outputs": []
    },
    {
      "cell_type": "code",
      "source": [
        "vectorizer_tfidf"
      ],
      "metadata": {
        "colab": {
          "base_uri": "https://localhost:8080/"
        },
        "id": "2_h2Fcq5mgOc",
        "outputId": "db2060b6-0afb-4a7c-b0ed-67de83ff1ac4"
      },
      "execution_count": null,
      "outputs": [
        {
          "output_type": "execute_result",
          "data": {
            "text/plain": [
              "TfidfVectorizer(stop_words={'a', 'about', 'above', 'after', 'again', 'against',\n",
              "                            'ain', 'all', 'am', 'an', 'and', 'any', 'are',\n",
              "                            'aren', \"aren't\", 'as', 'at', 'be', 'because',\n",
              "                            'been', 'before', 'being', 'below', 'between',\n",
              "                            'both', 'but', 'by', 'can', 'couldn', \"couldn't\", ...})"
            ]
          },
          "metadata": {},
          "execution_count": 53
        }
      ]
    },
    {
      "cell_type": "code",
      "source": [
        "tfidf_scores_content3 = vectorizer_tfidf.fit_transform(dataset.cleaned_title)"
      ],
      "metadata": {
        "id": "MN8uECm_nDzG"
      },
      "execution_count": null,
      "outputs": []
    },
    {
      "cell_type": "code",
      "source": [
        "# Create Data Frame of tdief scores\n",
        "tfidf_df_content3 = pd.DataFrame(tfidf_scores_content3.toarray(),\n",
        "             columns = vectorizer_tfidf.get_feature_names_out(),\n",
        "             index = dataset.index)"
      ],
      "metadata": {
        "id": "acJE-98-tNal"
      },
      "execution_count": null,
      "outputs": []
    },
    {
      "cell_type": "code",
      "source": [
        "tfidf_scores_content3.shape"
      ],
      "metadata": {
        "colab": {
          "base_uri": "https://localhost:8080/"
        },
        "id": "oblo8rDYsOnZ",
        "outputId": "5d26681a-352e-4081-c897-87cd95c16385"
      },
      "execution_count": null,
      "outputs": [
        {
          "output_type": "execute_result",
          "data": {
            "text/plain": [
              "(114, 6405)"
            ]
          },
          "metadata": {},
          "execution_count": 56
        }
      ]
    },
    {
      "cell_type": "code",
      "source": [
        "# Extract tfidf scores for portfolio\n",
        "tfidf_df_content3[portfolio]"
      ],
      "metadata": {
        "colab": {
          "base_uri": "https://localhost:8080/",
          "height": 424
        },
        "id": "T2zTBBT5sUPK",
        "outputId": "4444bc6e-d371-4d4e-cd02-ef124da222a7"
      },
      "execution_count": null,
      "outputs": [
        {
          "output_type": "execute_result",
          "data": {
            "text/plain": [
              "         auto      bank       oil  pharmaceutical    cement  technology\n",
              "0    0.000000  0.000000  0.000000             0.0  0.000000    0.000000\n",
              "1    0.000000  0.000000  0.000000             0.0  0.000000    0.000000\n",
              "2    0.000000  0.000000  0.000000             0.0  0.000000    0.000000\n",
              "3    0.000000  0.000000  0.000000             0.0  0.000000    0.000000\n",
              "4    0.000000  0.000000  0.000000             0.0  0.000000    0.000000\n",
              "..        ...       ...       ...             ...       ...         ...\n",
              "109  0.005375  0.008615  0.006531             0.0  0.005927    0.009702\n",
              "110  0.000000  0.000000  0.029543             0.0  0.000000    0.000000\n",
              "111  0.000000  0.019908  0.000000             0.0  0.000000    0.000000\n",
              "112  0.000000  0.000000  0.000000             0.0  0.000000    0.000000\n",
              "113  0.000000  0.070413  0.024463             0.0  0.033301    0.031151\n",
              "\n",
              "[114 rows x 6 columns]"
            ],
            "text/html": [
              "\n",
              "  <div id=\"df-56c53bb7-b54c-435a-833f-bd4dfecf65b1\">\n",
              "    <div class=\"colab-df-container\">\n",
              "      <div>\n",
              "<style scoped>\n",
              "    .dataframe tbody tr th:only-of-type {\n",
              "        vertical-align: middle;\n",
              "    }\n",
              "\n",
              "    .dataframe tbody tr th {\n",
              "        vertical-align: top;\n",
              "    }\n",
              "\n",
              "    .dataframe thead th {\n",
              "        text-align: right;\n",
              "    }\n",
              "</style>\n",
              "<table border=\"1\" class=\"dataframe\">\n",
              "  <thead>\n",
              "    <tr style=\"text-align: right;\">\n",
              "      <th></th>\n",
              "      <th>auto</th>\n",
              "      <th>bank</th>\n",
              "      <th>oil</th>\n",
              "      <th>pharmaceutical</th>\n",
              "      <th>cement</th>\n",
              "      <th>technology</th>\n",
              "    </tr>\n",
              "  </thead>\n",
              "  <tbody>\n",
              "    <tr>\n",
              "      <th>0</th>\n",
              "      <td>0.000000</td>\n",
              "      <td>0.000000</td>\n",
              "      <td>0.000000</td>\n",
              "      <td>0.0</td>\n",
              "      <td>0.000000</td>\n",
              "      <td>0.000000</td>\n",
              "    </tr>\n",
              "    <tr>\n",
              "      <th>1</th>\n",
              "      <td>0.000000</td>\n",
              "      <td>0.000000</td>\n",
              "      <td>0.000000</td>\n",
              "      <td>0.0</td>\n",
              "      <td>0.000000</td>\n",
              "      <td>0.000000</td>\n",
              "    </tr>\n",
              "    <tr>\n",
              "      <th>2</th>\n",
              "      <td>0.000000</td>\n",
              "      <td>0.000000</td>\n",
              "      <td>0.000000</td>\n",
              "      <td>0.0</td>\n",
              "      <td>0.000000</td>\n",
              "      <td>0.000000</td>\n",
              "    </tr>\n",
              "    <tr>\n",
              "      <th>3</th>\n",
              "      <td>0.000000</td>\n",
              "      <td>0.000000</td>\n",
              "      <td>0.000000</td>\n",
              "      <td>0.0</td>\n",
              "      <td>0.000000</td>\n",
              "      <td>0.000000</td>\n",
              "    </tr>\n",
              "    <tr>\n",
              "      <th>4</th>\n",
              "      <td>0.000000</td>\n",
              "      <td>0.000000</td>\n",
              "      <td>0.000000</td>\n",
              "      <td>0.0</td>\n",
              "      <td>0.000000</td>\n",
              "      <td>0.000000</td>\n",
              "    </tr>\n",
              "    <tr>\n",
              "      <th>...</th>\n",
              "      <td>...</td>\n",
              "      <td>...</td>\n",
              "      <td>...</td>\n",
              "      <td>...</td>\n",
              "      <td>...</td>\n",
              "      <td>...</td>\n",
              "    </tr>\n",
              "    <tr>\n",
              "      <th>109</th>\n",
              "      <td>0.005375</td>\n",
              "      <td>0.008615</td>\n",
              "      <td>0.006531</td>\n",
              "      <td>0.0</td>\n",
              "      <td>0.005927</td>\n",
              "      <td>0.009702</td>\n",
              "    </tr>\n",
              "    <tr>\n",
              "      <th>110</th>\n",
              "      <td>0.000000</td>\n",
              "      <td>0.000000</td>\n",
              "      <td>0.029543</td>\n",
              "      <td>0.0</td>\n",
              "      <td>0.000000</td>\n",
              "      <td>0.000000</td>\n",
              "    </tr>\n",
              "    <tr>\n",
              "      <th>111</th>\n",
              "      <td>0.000000</td>\n",
              "      <td>0.019908</td>\n",
              "      <td>0.000000</td>\n",
              "      <td>0.0</td>\n",
              "      <td>0.000000</td>\n",
              "      <td>0.000000</td>\n",
              "    </tr>\n",
              "    <tr>\n",
              "      <th>112</th>\n",
              "      <td>0.000000</td>\n",
              "      <td>0.000000</td>\n",
              "      <td>0.000000</td>\n",
              "      <td>0.0</td>\n",
              "      <td>0.000000</td>\n",
              "      <td>0.000000</td>\n",
              "    </tr>\n",
              "    <tr>\n",
              "      <th>113</th>\n",
              "      <td>0.000000</td>\n",
              "      <td>0.070413</td>\n",
              "      <td>0.024463</td>\n",
              "      <td>0.0</td>\n",
              "      <td>0.033301</td>\n",
              "      <td>0.031151</td>\n",
              "    </tr>\n",
              "  </tbody>\n",
              "</table>\n",
              "<p>114 rows × 6 columns</p>\n",
              "</div>\n",
              "      <button class=\"colab-df-convert\" onclick=\"convertToInteractive('df-56c53bb7-b54c-435a-833f-bd4dfecf65b1')\"\n",
              "              title=\"Convert this dataframe to an interactive table.\"\n",
              "              style=\"display:none;\">\n",
              "        \n",
              "  <svg xmlns=\"http://www.w3.org/2000/svg\" height=\"24px\"viewBox=\"0 0 24 24\"\n",
              "       width=\"24px\">\n",
              "    <path d=\"M0 0h24v24H0V0z\" fill=\"none\"/>\n",
              "    <path d=\"M18.56 5.44l.94 2.06.94-2.06 2.06-.94-2.06-.94-.94-2.06-.94 2.06-2.06.94zm-11 1L8.5 8.5l.94-2.06 2.06-.94-2.06-.94L8.5 2.5l-.94 2.06-2.06.94zm10 10l.94 2.06.94-2.06 2.06-.94-2.06-.94-.94-2.06-.94 2.06-2.06.94z\"/><path d=\"M17.41 7.96l-1.37-1.37c-.4-.4-.92-.59-1.43-.59-.52 0-1.04.2-1.43.59L10.3 9.45l-7.72 7.72c-.78.78-.78 2.05 0 2.83L4 21.41c.39.39.9.59 1.41.59.51 0 1.02-.2 1.41-.59l7.78-7.78 2.81-2.81c.8-.78.8-2.07 0-2.86zM5.41 20L4 18.59l7.72-7.72 1.47 1.35L5.41 20z\"/>\n",
              "  </svg>\n",
              "      </button>\n",
              "      \n",
              "  <style>\n",
              "    .colab-df-container {\n",
              "      display:flex;\n",
              "      flex-wrap:wrap;\n",
              "      gap: 12px;\n",
              "    }\n",
              "\n",
              "    .colab-df-convert {\n",
              "      background-color: #E8F0FE;\n",
              "      border: none;\n",
              "      border-radius: 50%;\n",
              "      cursor: pointer;\n",
              "      display: none;\n",
              "      fill: #1967D2;\n",
              "      height: 32px;\n",
              "      padding: 0 0 0 0;\n",
              "      width: 32px;\n",
              "    }\n",
              "\n",
              "    .colab-df-convert:hover {\n",
              "      background-color: #E2EBFA;\n",
              "      box-shadow: 0px 1px 2px rgba(60, 64, 67, 0.3), 0px 1px 3px 1px rgba(60, 64, 67, 0.15);\n",
              "      fill: #174EA6;\n",
              "    }\n",
              "\n",
              "    [theme=dark] .colab-df-convert {\n",
              "      background-color: #3B4455;\n",
              "      fill: #D2E3FC;\n",
              "    }\n",
              "\n",
              "    [theme=dark] .colab-df-convert:hover {\n",
              "      background-color: #434B5C;\n",
              "      box-shadow: 0px 1px 3px 1px rgba(0, 0, 0, 0.15);\n",
              "      filter: drop-shadow(0px 1px 2px rgba(0, 0, 0, 0.3));\n",
              "      fill: #FFFFFF;\n",
              "    }\n",
              "  </style>\n",
              "\n",
              "      <script>\n",
              "        const buttonEl =\n",
              "          document.querySelector('#df-56c53bb7-b54c-435a-833f-bd4dfecf65b1 button.colab-df-convert');\n",
              "        buttonEl.style.display =\n",
              "          google.colab.kernel.accessAllowed ? 'block' : 'none';\n",
              "\n",
              "        async function convertToInteractive(key) {\n",
              "          const element = document.querySelector('#df-56c53bb7-b54c-435a-833f-bd4dfecf65b1');\n",
              "          const dataTable =\n",
              "            await google.colab.kernel.invokeFunction('convertToInteractive',\n",
              "                                                     [key], {});\n",
              "          if (!dataTable) return;\n",
              "\n",
              "          const docLinkHtml = 'Like what you see? Visit the ' +\n",
              "            '<a target=\"_blank\" href=https://colab.research.google.com/notebooks/data_table.ipynb>data table notebook</a>'\n",
              "            + ' to learn more about interactive tables.';\n",
              "          element.innerHTML = '';\n",
              "          dataTable['output_type'] = 'display_data';\n",
              "          await google.colab.output.renderOutput(dataTable, element);\n",
              "          const docLink = document.createElement('div');\n",
              "          docLink.innerHTML = docLinkHtml;\n",
              "          element.appendChild(docLink);\n",
              "        }\n",
              "      </script>\n",
              "    </div>\n",
              "  </div>\n",
              "  "
            ]
          },
          "metadata": {},
          "execution_count": 57
        }
      ]
    },
    {
      "cell_type": "code",
      "source": [
        "# calculate average tfidf scores for portfolio\n",
        "tfidf_df_content3[portfolio].mean()"
      ],
      "metadata": {
        "id": "1iswAd93sbyL",
        "colab": {
          "base_uri": "https://localhost:8080/"
        },
        "outputId": "1077de70-2d6f-42bd-e326-b40d67cec399"
      },
      "execution_count": null,
      "outputs": [
        {
          "output_type": "execute_result",
          "data": {
            "text/plain": [
              "auto              0.010403\n",
              "bank              0.035681\n",
              "oil               0.017770\n",
              "pharmaceutical    0.006037\n",
              "cement            0.007664\n",
              "technology        0.010729\n",
              "dtype: float64"
            ]
          },
          "metadata": {},
          "execution_count": 58
        }
      ]
    },
    {
      "cell_type": "code",
      "source": [
        "# Calculate tfidf for all columns and list top 10\n",
        "tfidf_df_content3.mean().sort_values(ascending = False).head(10)"
      ],
      "metadata": {
        "colab": {
          "base_uri": "https://localhost:8080/"
        },
        "id": "fhF5rFxXP5eZ",
        "outputId": "aeb471eb-c88a-48d9-99d7-4800a0ac3019"
      },
      "execution_count": null,
      "outputs": [
        {
          "output_type": "execute_result",
          "data": {
            "text/plain": [
              "target    0.083039\n",
              "buy       0.065265\n",
              "india     0.064205\n",
              "fund      0.047540\n",
              "crore     0.046895\n",
              "stock     0.038188\n",
              "sale      0.037804\n",
              "june      0.036982\n",
              "net       0.036570\n",
              "bank      0.035681\n",
              "dtype: float64"
            ]
          },
          "metadata": {},
          "execution_count": 59
        }
      ]
    },
    {
      "cell_type": "markdown",
      "source": [
        "## Word2vec"
      ],
      "metadata": {
        "id": "jA5QqaSSVgad"
      }
    },
    {
      "cell_type": "code",
      "source": [
        "dfw = (dataset.copy().loc[:,['cleaned_title']])"
      ],
      "metadata": {
        "id": "EONKUq6JVJn3"
      },
      "execution_count": null,
      "outputs": []
    },
    {
      "cell_type": "code",
      "source": [
        "dfw"
      ],
      "metadata": {
        "colab": {
          "base_uri": "https://localhost:8080/",
          "height": 424
        },
        "id": "aHeTZh58ZiSG",
        "outputId": "9afd9dd7-a521-4963-bc99-709a03069672"
      },
      "execution_count": null,
      "outputs": [
        {
          "output_type": "execute_result",
          "data": {
            "text/plain": [
              "                                         cleaned_title\n",
              "0    life insurance claim would valid case death du...\n",
              "1    woman manage money well men step peculiar mone...\n",
              "2    sell equity buy gold instead amfi see uptick f...\n",
              "3    planning summer holiday five co branded airlin...\n",
              "4    explained crypto taxation work india hypertens...\n",
              "..                                                 ...\n",
              "109  government privatisation push danger delayed n...\n",
              "110  sound exit strategy crucial enjoying benefit g...\n",
              "111  cloud hang u chipmakers worry data center grow...\n",
              "112  urge caution dog catch monkeypox canadian lawm...\n",
              "113  uk spy chief jeremy fleming say vladimir putin...\n",
              "\n",
              "[114 rows x 1 columns]"
            ],
            "text/html": [
              "\n",
              "  <div id=\"df-968e3861-7003-49a8-bc64-9469f91e020c\">\n",
              "    <div class=\"colab-df-container\">\n",
              "      <div>\n",
              "<style scoped>\n",
              "    .dataframe tbody tr th:only-of-type {\n",
              "        vertical-align: middle;\n",
              "    }\n",
              "\n",
              "    .dataframe tbody tr th {\n",
              "        vertical-align: top;\n",
              "    }\n",
              "\n",
              "    .dataframe thead th {\n",
              "        text-align: right;\n",
              "    }\n",
              "</style>\n",
              "<table border=\"1\" class=\"dataframe\">\n",
              "  <thead>\n",
              "    <tr style=\"text-align: right;\">\n",
              "      <th></th>\n",
              "      <th>cleaned_title</th>\n",
              "    </tr>\n",
              "  </thead>\n",
              "  <tbody>\n",
              "    <tr>\n",
              "      <th>0</th>\n",
              "      <td>life insurance claim would valid case death du...</td>\n",
              "    </tr>\n",
              "    <tr>\n",
              "      <th>1</th>\n",
              "      <td>woman manage money well men step peculiar mone...</td>\n",
              "    </tr>\n",
              "    <tr>\n",
              "      <th>2</th>\n",
              "      <td>sell equity buy gold instead amfi see uptick f...</td>\n",
              "    </tr>\n",
              "    <tr>\n",
              "      <th>3</th>\n",
              "      <td>planning summer holiday five co branded airlin...</td>\n",
              "    </tr>\n",
              "    <tr>\n",
              "      <th>4</th>\n",
              "      <td>explained crypto taxation work india hypertens...</td>\n",
              "    </tr>\n",
              "    <tr>\n",
              "      <th>...</th>\n",
              "      <td>...</td>\n",
              "    </tr>\n",
              "    <tr>\n",
              "      <th>109</th>\n",
              "      <td>government privatisation push danger delayed n...</td>\n",
              "    </tr>\n",
              "    <tr>\n",
              "      <th>110</th>\n",
              "      <td>sound exit strategy crucial enjoying benefit g...</td>\n",
              "    </tr>\n",
              "    <tr>\n",
              "      <th>111</th>\n",
              "      <td>cloud hang u chipmakers worry data center grow...</td>\n",
              "    </tr>\n",
              "    <tr>\n",
              "      <th>112</th>\n",
              "      <td>urge caution dog catch monkeypox canadian lawm...</td>\n",
              "    </tr>\n",
              "    <tr>\n",
              "      <th>113</th>\n",
              "      <td>uk spy chief jeremy fleming say vladimir putin...</td>\n",
              "    </tr>\n",
              "  </tbody>\n",
              "</table>\n",
              "<p>114 rows × 1 columns</p>\n",
              "</div>\n",
              "      <button class=\"colab-df-convert\" onclick=\"convertToInteractive('df-968e3861-7003-49a8-bc64-9469f91e020c')\"\n",
              "              title=\"Convert this dataframe to an interactive table.\"\n",
              "              style=\"display:none;\">\n",
              "        \n",
              "  <svg xmlns=\"http://www.w3.org/2000/svg\" height=\"24px\"viewBox=\"0 0 24 24\"\n",
              "       width=\"24px\">\n",
              "    <path d=\"M0 0h24v24H0V0z\" fill=\"none\"/>\n",
              "    <path d=\"M18.56 5.44l.94 2.06.94-2.06 2.06-.94-2.06-.94-.94-2.06-.94 2.06-2.06.94zm-11 1L8.5 8.5l.94-2.06 2.06-.94-2.06-.94L8.5 2.5l-.94 2.06-2.06.94zm10 10l.94 2.06.94-2.06 2.06-.94-2.06-.94-.94-2.06-.94 2.06-2.06.94z\"/><path d=\"M17.41 7.96l-1.37-1.37c-.4-.4-.92-.59-1.43-.59-.52 0-1.04.2-1.43.59L10.3 9.45l-7.72 7.72c-.78.78-.78 2.05 0 2.83L4 21.41c.39.39.9.59 1.41.59.51 0 1.02-.2 1.41-.59l7.78-7.78 2.81-2.81c.8-.78.8-2.07 0-2.86zM5.41 20L4 18.59l7.72-7.72 1.47 1.35L5.41 20z\"/>\n",
              "  </svg>\n",
              "      </button>\n",
              "      \n",
              "  <style>\n",
              "    .colab-df-container {\n",
              "      display:flex;\n",
              "      flex-wrap:wrap;\n",
              "      gap: 12px;\n",
              "    }\n",
              "\n",
              "    .colab-df-convert {\n",
              "      background-color: #E8F0FE;\n",
              "      border: none;\n",
              "      border-radius: 50%;\n",
              "      cursor: pointer;\n",
              "      display: none;\n",
              "      fill: #1967D2;\n",
              "      height: 32px;\n",
              "      padding: 0 0 0 0;\n",
              "      width: 32px;\n",
              "    }\n",
              "\n",
              "    .colab-df-convert:hover {\n",
              "      background-color: #E2EBFA;\n",
              "      box-shadow: 0px 1px 2px rgba(60, 64, 67, 0.3), 0px 1px 3px 1px rgba(60, 64, 67, 0.15);\n",
              "      fill: #174EA6;\n",
              "    }\n",
              "\n",
              "    [theme=dark] .colab-df-convert {\n",
              "      background-color: #3B4455;\n",
              "      fill: #D2E3FC;\n",
              "    }\n",
              "\n",
              "    [theme=dark] .colab-df-convert:hover {\n",
              "      background-color: #434B5C;\n",
              "      box-shadow: 0px 1px 3px 1px rgba(0, 0, 0, 0.15);\n",
              "      filter: drop-shadow(0px 1px 2px rgba(0, 0, 0, 0.3));\n",
              "      fill: #FFFFFF;\n",
              "    }\n",
              "  </style>\n",
              "\n",
              "      <script>\n",
              "        const buttonEl =\n",
              "          document.querySelector('#df-968e3861-7003-49a8-bc64-9469f91e020c button.colab-df-convert');\n",
              "        buttonEl.style.display =\n",
              "          google.colab.kernel.accessAllowed ? 'block' : 'none';\n",
              "\n",
              "        async function convertToInteractive(key) {\n",
              "          const element = document.querySelector('#df-968e3861-7003-49a8-bc64-9469f91e020c');\n",
              "          const dataTable =\n",
              "            await google.colab.kernel.invokeFunction('convertToInteractive',\n",
              "                                                     [key], {});\n",
              "          if (!dataTable) return;\n",
              "\n",
              "          const docLinkHtml = 'Like what you see? Visit the ' +\n",
              "            '<a target=\"_blank\" href=https://colab.research.google.com/notebooks/data_table.ipynb>data table notebook</a>'\n",
              "            + ' to learn more about interactive tables.';\n",
              "          element.innerHTML = '';\n",
              "          dataTable['output_type'] = 'display_data';\n",
              "          await google.colab.output.renderOutput(dataTable, element);\n",
              "          const docLink = document.createElement('div');\n",
              "          docLink.innerHTML = docLinkHtml;\n",
              "          element.appendChild(docLink);\n",
              "        }\n",
              "      </script>\n",
              "    </div>\n",
              "  </div>\n",
              "  "
            ]
          },
          "metadata": {},
          "execution_count": 61
        }
      ]
    },
    {
      "cell_type": "code",
      "source": [
        "dfw['token'] = dfw['cleaned_title'].apply(lambda x : nltk.word_tokenize(x))"
      ],
      "metadata": {
        "id": "ANtMpZIkZjxq"
      },
      "execution_count": null,
      "outputs": []
    },
    {
      "cell_type": "code",
      "source": [
        "dfw"
      ],
      "metadata": {
        "colab": {
          "base_uri": "https://localhost:8080/",
          "height": 424
        },
        "id": "A3XUAQM0Z2Jn",
        "outputId": "4d07d77d-a3f9-4d2d-9dae-333701ab7499"
      },
      "execution_count": null,
      "outputs": [
        {
          "output_type": "execute_result",
          "data": {
            "text/plain": [
              "                                         cleaned_title  \\\n",
              "0    life insurance claim would valid case death du...   \n",
              "1    woman manage money well men step peculiar mone...   \n",
              "2    sell equity buy gold instead amfi see uptick f...   \n",
              "3    planning summer holiday five co branded airlin...   \n",
              "4    explained crypto taxation work india hypertens...   \n",
              "..                                                 ...   \n",
              "109  government privatisation push danger delayed n...   \n",
              "110  sound exit strategy crucial enjoying benefit g...   \n",
              "111  cloud hang u chipmakers worry data center grow...   \n",
              "112  urge caution dog catch monkeypox canadian lawm...   \n",
              "113  uk spy chief jeremy fleming say vladimir putin...   \n",
              "\n",
              "                                                 token  \n",
              "0    [life, insurance, claim, would, valid, case, d...  \n",
              "1    [woman, manage, money, well, men, step, peculi...  \n",
              "2    [sell, equity, buy, gold, instead, amfi, see, ...  \n",
              "3    [planning, summer, holiday, five, co, branded,...  \n",
              "4    [explained, crypto, taxation, work, india, hyp...  \n",
              "..                                                 ...  \n",
              "109  [government, privatisation, push, danger, dela...  \n",
              "110  [sound, exit, strategy, crucial, enjoying, ben...  \n",
              "111  [cloud, hang, u, chipmakers, worry, data, cent...  \n",
              "112  [urge, caution, dog, catch, monkeypox, canadia...  \n",
              "113  [uk, spy, chief, jeremy, fleming, say, vladimi...  \n",
              "\n",
              "[114 rows x 2 columns]"
            ],
            "text/html": [
              "\n",
              "  <div id=\"df-43d75bf1-8259-4ceb-b027-a58040d4024f\">\n",
              "    <div class=\"colab-df-container\">\n",
              "      <div>\n",
              "<style scoped>\n",
              "    .dataframe tbody tr th:only-of-type {\n",
              "        vertical-align: middle;\n",
              "    }\n",
              "\n",
              "    .dataframe tbody tr th {\n",
              "        vertical-align: top;\n",
              "    }\n",
              "\n",
              "    .dataframe thead th {\n",
              "        text-align: right;\n",
              "    }\n",
              "</style>\n",
              "<table border=\"1\" class=\"dataframe\">\n",
              "  <thead>\n",
              "    <tr style=\"text-align: right;\">\n",
              "      <th></th>\n",
              "      <th>cleaned_title</th>\n",
              "      <th>token</th>\n",
              "    </tr>\n",
              "  </thead>\n",
              "  <tbody>\n",
              "    <tr>\n",
              "      <th>0</th>\n",
              "      <td>life insurance claim would valid case death du...</td>\n",
              "      <td>[life, insurance, claim, would, valid, case, d...</td>\n",
              "    </tr>\n",
              "    <tr>\n",
              "      <th>1</th>\n",
              "      <td>woman manage money well men step peculiar mone...</td>\n",
              "      <td>[woman, manage, money, well, men, step, peculi...</td>\n",
              "    </tr>\n",
              "    <tr>\n",
              "      <th>2</th>\n",
              "      <td>sell equity buy gold instead amfi see uptick f...</td>\n",
              "      <td>[sell, equity, buy, gold, instead, amfi, see, ...</td>\n",
              "    </tr>\n",
              "    <tr>\n",
              "      <th>3</th>\n",
              "      <td>planning summer holiday five co branded airlin...</td>\n",
              "      <td>[planning, summer, holiday, five, co, branded,...</td>\n",
              "    </tr>\n",
              "    <tr>\n",
              "      <th>4</th>\n",
              "      <td>explained crypto taxation work india hypertens...</td>\n",
              "      <td>[explained, crypto, taxation, work, india, hyp...</td>\n",
              "    </tr>\n",
              "    <tr>\n",
              "      <th>...</th>\n",
              "      <td>...</td>\n",
              "      <td>...</td>\n",
              "    </tr>\n",
              "    <tr>\n",
              "      <th>109</th>\n",
              "      <td>government privatisation push danger delayed n...</td>\n",
              "      <td>[government, privatisation, push, danger, dela...</td>\n",
              "    </tr>\n",
              "    <tr>\n",
              "      <th>110</th>\n",
              "      <td>sound exit strategy crucial enjoying benefit g...</td>\n",
              "      <td>[sound, exit, strategy, crucial, enjoying, ben...</td>\n",
              "    </tr>\n",
              "    <tr>\n",
              "      <th>111</th>\n",
              "      <td>cloud hang u chipmakers worry data center grow...</td>\n",
              "      <td>[cloud, hang, u, chipmakers, worry, data, cent...</td>\n",
              "    </tr>\n",
              "    <tr>\n",
              "      <th>112</th>\n",
              "      <td>urge caution dog catch monkeypox canadian lawm...</td>\n",
              "      <td>[urge, caution, dog, catch, monkeypox, canadia...</td>\n",
              "    </tr>\n",
              "    <tr>\n",
              "      <th>113</th>\n",
              "      <td>uk spy chief jeremy fleming say vladimir putin...</td>\n",
              "      <td>[uk, spy, chief, jeremy, fleming, say, vladimi...</td>\n",
              "    </tr>\n",
              "  </tbody>\n",
              "</table>\n",
              "<p>114 rows × 2 columns</p>\n",
              "</div>\n",
              "      <button class=\"colab-df-convert\" onclick=\"convertToInteractive('df-43d75bf1-8259-4ceb-b027-a58040d4024f')\"\n",
              "              title=\"Convert this dataframe to an interactive table.\"\n",
              "              style=\"display:none;\">\n",
              "        \n",
              "  <svg xmlns=\"http://www.w3.org/2000/svg\" height=\"24px\"viewBox=\"0 0 24 24\"\n",
              "       width=\"24px\">\n",
              "    <path d=\"M0 0h24v24H0V0z\" fill=\"none\"/>\n",
              "    <path d=\"M18.56 5.44l.94 2.06.94-2.06 2.06-.94-2.06-.94-.94-2.06-.94 2.06-2.06.94zm-11 1L8.5 8.5l.94-2.06 2.06-.94-2.06-.94L8.5 2.5l-.94 2.06-2.06.94zm10 10l.94 2.06.94-2.06 2.06-.94-2.06-.94-.94-2.06-.94 2.06-2.06.94z\"/><path d=\"M17.41 7.96l-1.37-1.37c-.4-.4-.92-.59-1.43-.59-.52 0-1.04.2-1.43.59L10.3 9.45l-7.72 7.72c-.78.78-.78 2.05 0 2.83L4 21.41c.39.39.9.59 1.41.59.51 0 1.02-.2 1.41-.59l7.78-7.78 2.81-2.81c.8-.78.8-2.07 0-2.86zM5.41 20L4 18.59l7.72-7.72 1.47 1.35L5.41 20z\"/>\n",
              "  </svg>\n",
              "      </button>\n",
              "      \n",
              "  <style>\n",
              "    .colab-df-container {\n",
              "      display:flex;\n",
              "      flex-wrap:wrap;\n",
              "      gap: 12px;\n",
              "    }\n",
              "\n",
              "    .colab-df-convert {\n",
              "      background-color: #E8F0FE;\n",
              "      border: none;\n",
              "      border-radius: 50%;\n",
              "      cursor: pointer;\n",
              "      display: none;\n",
              "      fill: #1967D2;\n",
              "      height: 32px;\n",
              "      padding: 0 0 0 0;\n",
              "      width: 32px;\n",
              "    }\n",
              "\n",
              "    .colab-df-convert:hover {\n",
              "      background-color: #E2EBFA;\n",
              "      box-shadow: 0px 1px 2px rgba(60, 64, 67, 0.3), 0px 1px 3px 1px rgba(60, 64, 67, 0.15);\n",
              "      fill: #174EA6;\n",
              "    }\n",
              "\n",
              "    [theme=dark] .colab-df-convert {\n",
              "      background-color: #3B4455;\n",
              "      fill: #D2E3FC;\n",
              "    }\n",
              "\n",
              "    [theme=dark] .colab-df-convert:hover {\n",
              "      background-color: #434B5C;\n",
              "      box-shadow: 0px 1px 3px 1px rgba(0, 0, 0, 0.15);\n",
              "      filter: drop-shadow(0px 1px 2px rgba(0, 0, 0, 0.3));\n",
              "      fill: #FFFFFF;\n",
              "    }\n",
              "  </style>\n",
              "\n",
              "      <script>\n",
              "        const buttonEl =\n",
              "          document.querySelector('#df-43d75bf1-8259-4ceb-b027-a58040d4024f button.colab-df-convert');\n",
              "        buttonEl.style.display =\n",
              "          google.colab.kernel.accessAllowed ? 'block' : 'none';\n",
              "\n",
              "        async function convertToInteractive(key) {\n",
              "          const element = document.querySelector('#df-43d75bf1-8259-4ceb-b027-a58040d4024f');\n",
              "          const dataTable =\n",
              "            await google.colab.kernel.invokeFunction('convertToInteractive',\n",
              "                                                     [key], {});\n",
              "          if (!dataTable) return;\n",
              "\n",
              "          const docLinkHtml = 'Like what you see? Visit the ' +\n",
              "            '<a target=\"_blank\" href=https://colab.research.google.com/notebooks/data_table.ipynb>data table notebook</a>'\n",
              "            + ' to learn more about interactive tables.';\n",
              "          element.innerHTML = '';\n",
              "          dataTable['output_type'] = 'display_data';\n",
              "          await google.colab.output.renderOutput(dataTable, element);\n",
              "          const docLink = document.createElement('div');\n",
              "          docLink.innerHTML = docLinkHtml;\n",
              "          element.appendChild(docLink);\n",
              "        }\n",
              "      </script>\n",
              "    </div>\n",
              "  </div>\n",
              "  "
            ]
          },
          "metadata": {},
          "execution_count": 63
        }
      ]
    },
    {
      "cell_type": "code",
      "source": [
        "# take a subset of 200 tokens here. These 200 may be ‘random’ or top 200 tokens with the highest tf-idf scores.\n",
        "top200_tokens_tfidf_3 = (tfidf_df_content3.mean()\n",
        "                                          .sort_values(ascending=False)\n",
        "                                          .head(200)\n",
        "                                          .index)\n",
        "# For content3 with embedding size to be 200\n",
        "model31_word2vec = Word2Vec(sentences=dfw.token,\n",
        "                          size=200,  #Embedding size = 200 --> Change as per the need  \n",
        "                          min_count=1)\n",
        "top200_tokens_tfidf_vectors = {token: model31_word2vec.wv[token] \n",
        "                               for token in top200_tokens_tfidf_3}\n",
        "top200_tfidf_word_vectors_m31 = (pd.DataFrame(top200_tokens_tfidf_vectors)\n",
        "                               .transpose())\n",
        "top200_tfidf_word_vectors_m31"
      ],
      "metadata": {
        "colab": {
          "base_uri": "https://localhost:8080/",
          "height": 505
        },
        "id": "Mg3XjOrlZ4LT",
        "outputId": "04c862cd-1b9d-4330-cfd5-ccf9d8afafce"
      },
      "execution_count": null,
      "outputs": [
        {
          "output_type": "stream",
          "name": "stderr",
          "text": [
            "WARNING:gensim.models.base_any2vec:under 10 jobs per worker: consider setting a smaller `batch_words' for smoother alpha decay\n"
          ]
        },
        {
          "output_type": "execute_result",
          "data": {
            "text/plain": [
              "                0         1         2         3         4         5    \\\n",
              "target     0.067518  0.201276  0.144600 -0.013969  0.058717  0.408406   \n",
              "buy        0.067884  0.194850  0.142107 -0.014925  0.060179  0.388128   \n",
              "india      0.153987  0.386924  0.275759 -0.050868  0.107204  0.728559   \n",
              "fund       0.130589  0.314150  0.228143 -0.044307  0.088675  0.590402   \n",
              "crore      0.032462  0.089573  0.073492 -0.116426  0.041117  0.154782   \n",
              "...             ...       ...       ...       ...       ...       ...   \n",
              "delivered  0.004946  0.010513  0.007837 -0.000325  0.002516  0.019393   \n",
              "step       0.029145  0.069630  0.048682 -0.010690  0.019121  0.133641   \n",
              "join       0.034969  0.077054  0.055604 -0.012598  0.023451  0.151314   \n",
              "crisis     0.032029  0.081112  0.056104 -0.009450  0.020813  0.151040   \n",
              "hit        0.045856  0.115685  0.085466 -0.016481  0.034139  0.220699   \n",
              "\n",
              "                6         7         8         9    ...       190       191  \\\n",
              "target    -0.062683 -0.343720  0.087485 -0.206828  ... -0.364414 -0.118781   \n",
              "buy       -0.056811 -0.325659  0.083014 -0.197664  ... -0.348462 -0.117101   \n",
              "india     -0.112786 -0.596433  0.189472 -0.385364  ... -0.678734 -0.213248   \n",
              "fund      -0.088133 -0.482999  0.155527 -0.310023  ... -0.546439 -0.169233   \n",
              "crore     -0.060181 -0.139840  0.106814 -0.060907  ... -0.127108 -0.089325   \n",
              "...             ...       ...       ...       ...  ...       ...       ...   \n",
              "delivered -0.005186 -0.018763  0.004554 -0.008373  ... -0.018748 -0.004836   \n",
              "step      -0.018305 -0.107903  0.032566 -0.068308  ... -0.123614 -0.041329   \n",
              "join      -0.022183 -0.123187  0.038124 -0.077354  ... -0.139402 -0.042226   \n",
              "crisis    -0.024153 -0.123434  0.038285 -0.082753  ... -0.142783 -0.045582   \n",
              "hit       -0.031592 -0.177438  0.056584 -0.118832  ... -0.203855 -0.062531   \n",
              "\n",
              "                192       193       194       195       196       197  \\\n",
              "target    -0.086452  0.155029 -0.253664 -0.325830 -0.345864  0.042070   \n",
              "buy       -0.086618  0.140595 -0.241135 -0.305524 -0.326769  0.040391   \n",
              "india     -0.187920  0.260907 -0.466372 -0.580849 -0.630422  0.063890   \n",
              "fund      -0.154092  0.213105 -0.379604 -0.473309 -0.511723  0.043974   \n",
              "crore     -0.015249  0.029024 -0.109198 -0.160313 -0.186789  0.038555   \n",
              "...             ...       ...       ...       ...       ...       ...   \n",
              "delivered -0.005743  0.006240 -0.012091 -0.014478 -0.018600  0.001918   \n",
              "step      -0.031815  0.045945 -0.084175 -0.106260 -0.113379  0.013266   \n",
              "join      -0.038118  0.051097 -0.094634 -0.120807 -0.127504  0.012198   \n",
              "crisis    -0.042247  0.053864 -0.095534 -0.121684 -0.134037  0.010573   \n",
              "hit       -0.058128  0.078086 -0.139471 -0.176742 -0.189126  0.017926   \n",
              "\n",
              "                198       199  \n",
              "target     0.167252 -0.192305  \n",
              "buy        0.157461 -0.183679  \n",
              "india      0.328146 -0.338723  \n",
              "fund       0.265364 -0.272219  \n",
              "crore      0.055492 -0.044386  \n",
              "...             ...       ...  \n",
              "delivered  0.011760 -0.011638  \n",
              "step       0.057574 -0.061825  \n",
              "join       0.067113 -0.068755  \n",
              "crisis     0.067143 -0.070058  \n",
              "hit        0.102314 -0.101568  \n",
              "\n",
              "[200 rows x 200 columns]"
            ],
            "text/html": [
              "\n",
              "  <div id=\"df-96c3d224-0cfc-4168-8a2c-88c6aaa36e0f\">\n",
              "    <div class=\"colab-df-container\">\n",
              "      <div>\n",
              "<style scoped>\n",
              "    .dataframe tbody tr th:only-of-type {\n",
              "        vertical-align: middle;\n",
              "    }\n",
              "\n",
              "    .dataframe tbody tr th {\n",
              "        vertical-align: top;\n",
              "    }\n",
              "\n",
              "    .dataframe thead th {\n",
              "        text-align: right;\n",
              "    }\n",
              "</style>\n",
              "<table border=\"1\" class=\"dataframe\">\n",
              "  <thead>\n",
              "    <tr style=\"text-align: right;\">\n",
              "      <th></th>\n",
              "      <th>0</th>\n",
              "      <th>1</th>\n",
              "      <th>2</th>\n",
              "      <th>3</th>\n",
              "      <th>4</th>\n",
              "      <th>5</th>\n",
              "      <th>6</th>\n",
              "      <th>7</th>\n",
              "      <th>8</th>\n",
              "      <th>9</th>\n",
              "      <th>...</th>\n",
              "      <th>190</th>\n",
              "      <th>191</th>\n",
              "      <th>192</th>\n",
              "      <th>193</th>\n",
              "      <th>194</th>\n",
              "      <th>195</th>\n",
              "      <th>196</th>\n",
              "      <th>197</th>\n",
              "      <th>198</th>\n",
              "      <th>199</th>\n",
              "    </tr>\n",
              "  </thead>\n",
              "  <tbody>\n",
              "    <tr>\n",
              "      <th>target</th>\n",
              "      <td>0.067518</td>\n",
              "      <td>0.201276</td>\n",
              "      <td>0.144600</td>\n",
              "      <td>-0.013969</td>\n",
              "      <td>0.058717</td>\n",
              "      <td>0.408406</td>\n",
              "      <td>-0.062683</td>\n",
              "      <td>-0.343720</td>\n",
              "      <td>0.087485</td>\n",
              "      <td>-0.206828</td>\n",
              "      <td>...</td>\n",
              "      <td>-0.364414</td>\n",
              "      <td>-0.118781</td>\n",
              "      <td>-0.086452</td>\n",
              "      <td>0.155029</td>\n",
              "      <td>-0.253664</td>\n",
              "      <td>-0.325830</td>\n",
              "      <td>-0.345864</td>\n",
              "      <td>0.042070</td>\n",
              "      <td>0.167252</td>\n",
              "      <td>-0.192305</td>\n",
              "    </tr>\n",
              "    <tr>\n",
              "      <th>buy</th>\n",
              "      <td>0.067884</td>\n",
              "      <td>0.194850</td>\n",
              "      <td>0.142107</td>\n",
              "      <td>-0.014925</td>\n",
              "      <td>0.060179</td>\n",
              "      <td>0.388128</td>\n",
              "      <td>-0.056811</td>\n",
              "      <td>-0.325659</td>\n",
              "      <td>0.083014</td>\n",
              "      <td>-0.197664</td>\n",
              "      <td>...</td>\n",
              "      <td>-0.348462</td>\n",
              "      <td>-0.117101</td>\n",
              "      <td>-0.086618</td>\n",
              "      <td>0.140595</td>\n",
              "      <td>-0.241135</td>\n",
              "      <td>-0.305524</td>\n",
              "      <td>-0.326769</td>\n",
              "      <td>0.040391</td>\n",
              "      <td>0.157461</td>\n",
              "      <td>-0.183679</td>\n",
              "    </tr>\n",
              "    <tr>\n",
              "      <th>india</th>\n",
              "      <td>0.153987</td>\n",
              "      <td>0.386924</td>\n",
              "      <td>0.275759</td>\n",
              "      <td>-0.050868</td>\n",
              "      <td>0.107204</td>\n",
              "      <td>0.728559</td>\n",
              "      <td>-0.112786</td>\n",
              "      <td>-0.596433</td>\n",
              "      <td>0.189472</td>\n",
              "      <td>-0.385364</td>\n",
              "      <td>...</td>\n",
              "      <td>-0.678734</td>\n",
              "      <td>-0.213248</td>\n",
              "      <td>-0.187920</td>\n",
              "      <td>0.260907</td>\n",
              "      <td>-0.466372</td>\n",
              "      <td>-0.580849</td>\n",
              "      <td>-0.630422</td>\n",
              "      <td>0.063890</td>\n",
              "      <td>0.328146</td>\n",
              "      <td>-0.338723</td>\n",
              "    </tr>\n",
              "    <tr>\n",
              "      <th>fund</th>\n",
              "      <td>0.130589</td>\n",
              "      <td>0.314150</td>\n",
              "      <td>0.228143</td>\n",
              "      <td>-0.044307</td>\n",
              "      <td>0.088675</td>\n",
              "      <td>0.590402</td>\n",
              "      <td>-0.088133</td>\n",
              "      <td>-0.482999</td>\n",
              "      <td>0.155527</td>\n",
              "      <td>-0.310023</td>\n",
              "      <td>...</td>\n",
              "      <td>-0.546439</td>\n",
              "      <td>-0.169233</td>\n",
              "      <td>-0.154092</td>\n",
              "      <td>0.213105</td>\n",
              "      <td>-0.379604</td>\n",
              "      <td>-0.473309</td>\n",
              "      <td>-0.511723</td>\n",
              "      <td>0.043974</td>\n",
              "      <td>0.265364</td>\n",
              "      <td>-0.272219</td>\n",
              "    </tr>\n",
              "    <tr>\n",
              "      <th>crore</th>\n",
              "      <td>0.032462</td>\n",
              "      <td>0.089573</td>\n",
              "      <td>0.073492</td>\n",
              "      <td>-0.116426</td>\n",
              "      <td>0.041117</td>\n",
              "      <td>0.154782</td>\n",
              "      <td>-0.060181</td>\n",
              "      <td>-0.139840</td>\n",
              "      <td>0.106814</td>\n",
              "      <td>-0.060907</td>\n",
              "      <td>...</td>\n",
              "      <td>-0.127108</td>\n",
              "      <td>-0.089325</td>\n",
              "      <td>-0.015249</td>\n",
              "      <td>0.029024</td>\n",
              "      <td>-0.109198</td>\n",
              "      <td>-0.160313</td>\n",
              "      <td>-0.186789</td>\n",
              "      <td>0.038555</td>\n",
              "      <td>0.055492</td>\n",
              "      <td>-0.044386</td>\n",
              "    </tr>\n",
              "    <tr>\n",
              "      <th>...</th>\n",
              "      <td>...</td>\n",
              "      <td>...</td>\n",
              "      <td>...</td>\n",
              "      <td>...</td>\n",
              "      <td>...</td>\n",
              "      <td>...</td>\n",
              "      <td>...</td>\n",
              "      <td>...</td>\n",
              "      <td>...</td>\n",
              "      <td>...</td>\n",
              "      <td>...</td>\n",
              "      <td>...</td>\n",
              "      <td>...</td>\n",
              "      <td>...</td>\n",
              "      <td>...</td>\n",
              "      <td>...</td>\n",
              "      <td>...</td>\n",
              "      <td>...</td>\n",
              "      <td>...</td>\n",
              "      <td>...</td>\n",
              "      <td>...</td>\n",
              "    </tr>\n",
              "    <tr>\n",
              "      <th>delivered</th>\n",
              "      <td>0.004946</td>\n",
              "      <td>0.010513</td>\n",
              "      <td>0.007837</td>\n",
              "      <td>-0.000325</td>\n",
              "      <td>0.002516</td>\n",
              "      <td>0.019393</td>\n",
              "      <td>-0.005186</td>\n",
              "      <td>-0.018763</td>\n",
              "      <td>0.004554</td>\n",
              "      <td>-0.008373</td>\n",
              "      <td>...</td>\n",
              "      <td>-0.018748</td>\n",
              "      <td>-0.004836</td>\n",
              "      <td>-0.005743</td>\n",
              "      <td>0.006240</td>\n",
              "      <td>-0.012091</td>\n",
              "      <td>-0.014478</td>\n",
              "      <td>-0.018600</td>\n",
              "      <td>0.001918</td>\n",
              "      <td>0.011760</td>\n",
              "      <td>-0.011638</td>\n",
              "    </tr>\n",
              "    <tr>\n",
              "      <th>step</th>\n",
              "      <td>0.029145</td>\n",
              "      <td>0.069630</td>\n",
              "      <td>0.048682</td>\n",
              "      <td>-0.010690</td>\n",
              "      <td>0.019121</td>\n",
              "      <td>0.133641</td>\n",
              "      <td>-0.018305</td>\n",
              "      <td>-0.107903</td>\n",
              "      <td>0.032566</td>\n",
              "      <td>-0.068308</td>\n",
              "      <td>...</td>\n",
              "      <td>-0.123614</td>\n",
              "      <td>-0.041329</td>\n",
              "      <td>-0.031815</td>\n",
              "      <td>0.045945</td>\n",
              "      <td>-0.084175</td>\n",
              "      <td>-0.106260</td>\n",
              "      <td>-0.113379</td>\n",
              "      <td>0.013266</td>\n",
              "      <td>0.057574</td>\n",
              "      <td>-0.061825</td>\n",
              "    </tr>\n",
              "    <tr>\n",
              "      <th>join</th>\n",
              "      <td>0.034969</td>\n",
              "      <td>0.077054</td>\n",
              "      <td>0.055604</td>\n",
              "      <td>-0.012598</td>\n",
              "      <td>0.023451</td>\n",
              "      <td>0.151314</td>\n",
              "      <td>-0.022183</td>\n",
              "      <td>-0.123187</td>\n",
              "      <td>0.038124</td>\n",
              "      <td>-0.077354</td>\n",
              "      <td>...</td>\n",
              "      <td>-0.139402</td>\n",
              "      <td>-0.042226</td>\n",
              "      <td>-0.038118</td>\n",
              "      <td>0.051097</td>\n",
              "      <td>-0.094634</td>\n",
              "      <td>-0.120807</td>\n",
              "      <td>-0.127504</td>\n",
              "      <td>0.012198</td>\n",
              "      <td>0.067113</td>\n",
              "      <td>-0.068755</td>\n",
              "    </tr>\n",
              "    <tr>\n",
              "      <th>crisis</th>\n",
              "      <td>0.032029</td>\n",
              "      <td>0.081112</td>\n",
              "      <td>0.056104</td>\n",
              "      <td>-0.009450</td>\n",
              "      <td>0.020813</td>\n",
              "      <td>0.151040</td>\n",
              "      <td>-0.024153</td>\n",
              "      <td>-0.123434</td>\n",
              "      <td>0.038285</td>\n",
              "      <td>-0.082753</td>\n",
              "      <td>...</td>\n",
              "      <td>-0.142783</td>\n",
              "      <td>-0.045582</td>\n",
              "      <td>-0.042247</td>\n",
              "      <td>0.053864</td>\n",
              "      <td>-0.095534</td>\n",
              "      <td>-0.121684</td>\n",
              "      <td>-0.134037</td>\n",
              "      <td>0.010573</td>\n",
              "      <td>0.067143</td>\n",
              "      <td>-0.070058</td>\n",
              "    </tr>\n",
              "    <tr>\n",
              "      <th>hit</th>\n",
              "      <td>0.045856</td>\n",
              "      <td>0.115685</td>\n",
              "      <td>0.085466</td>\n",
              "      <td>-0.016481</td>\n",
              "      <td>0.034139</td>\n",
              "      <td>0.220699</td>\n",
              "      <td>-0.031592</td>\n",
              "      <td>-0.177438</td>\n",
              "      <td>0.056584</td>\n",
              "      <td>-0.118832</td>\n",
              "      <td>...</td>\n",
              "      <td>-0.203855</td>\n",
              "      <td>-0.062531</td>\n",
              "      <td>-0.058128</td>\n",
              "      <td>0.078086</td>\n",
              "      <td>-0.139471</td>\n",
              "      <td>-0.176742</td>\n",
              "      <td>-0.189126</td>\n",
              "      <td>0.017926</td>\n",
              "      <td>0.102314</td>\n",
              "      <td>-0.101568</td>\n",
              "    </tr>\n",
              "  </tbody>\n",
              "</table>\n",
              "<p>200 rows × 200 columns</p>\n",
              "</div>\n",
              "      <button class=\"colab-df-convert\" onclick=\"convertToInteractive('df-96c3d224-0cfc-4168-8a2c-88c6aaa36e0f')\"\n",
              "              title=\"Convert this dataframe to an interactive table.\"\n",
              "              style=\"display:none;\">\n",
              "        \n",
              "  <svg xmlns=\"http://www.w3.org/2000/svg\" height=\"24px\"viewBox=\"0 0 24 24\"\n",
              "       width=\"24px\">\n",
              "    <path d=\"M0 0h24v24H0V0z\" fill=\"none\"/>\n",
              "    <path d=\"M18.56 5.44l.94 2.06.94-2.06 2.06-.94-2.06-.94-.94-2.06-.94 2.06-2.06.94zm-11 1L8.5 8.5l.94-2.06 2.06-.94-2.06-.94L8.5 2.5l-.94 2.06-2.06.94zm10 10l.94 2.06.94-2.06 2.06-.94-2.06-.94-.94-2.06-.94 2.06-2.06.94z\"/><path d=\"M17.41 7.96l-1.37-1.37c-.4-.4-.92-.59-1.43-.59-.52 0-1.04.2-1.43.59L10.3 9.45l-7.72 7.72c-.78.78-.78 2.05 0 2.83L4 21.41c.39.39.9.59 1.41.59.51 0 1.02-.2 1.41-.59l7.78-7.78 2.81-2.81c.8-.78.8-2.07 0-2.86zM5.41 20L4 18.59l7.72-7.72 1.47 1.35L5.41 20z\"/>\n",
              "  </svg>\n",
              "      </button>\n",
              "      \n",
              "  <style>\n",
              "    .colab-df-container {\n",
              "      display:flex;\n",
              "      flex-wrap:wrap;\n",
              "      gap: 12px;\n",
              "    }\n",
              "\n",
              "    .colab-df-convert {\n",
              "      background-color: #E8F0FE;\n",
              "      border: none;\n",
              "      border-radius: 50%;\n",
              "      cursor: pointer;\n",
              "      display: none;\n",
              "      fill: #1967D2;\n",
              "      height: 32px;\n",
              "      padding: 0 0 0 0;\n",
              "      width: 32px;\n",
              "    }\n",
              "\n",
              "    .colab-df-convert:hover {\n",
              "      background-color: #E2EBFA;\n",
              "      box-shadow: 0px 1px 2px rgba(60, 64, 67, 0.3), 0px 1px 3px 1px rgba(60, 64, 67, 0.15);\n",
              "      fill: #174EA6;\n",
              "    }\n",
              "\n",
              "    [theme=dark] .colab-df-convert {\n",
              "      background-color: #3B4455;\n",
              "      fill: #D2E3FC;\n",
              "    }\n",
              "\n",
              "    [theme=dark] .colab-df-convert:hover {\n",
              "      background-color: #434B5C;\n",
              "      box-shadow: 0px 1px 3px 1px rgba(0, 0, 0, 0.15);\n",
              "      filter: drop-shadow(0px 1px 2px rgba(0, 0, 0, 0.3));\n",
              "      fill: #FFFFFF;\n",
              "    }\n",
              "  </style>\n",
              "\n",
              "      <script>\n",
              "        const buttonEl =\n",
              "          document.querySelector('#df-96c3d224-0cfc-4168-8a2c-88c6aaa36e0f button.colab-df-convert');\n",
              "        buttonEl.style.display =\n",
              "          google.colab.kernel.accessAllowed ? 'block' : 'none';\n",
              "\n",
              "        async function convertToInteractive(key) {\n",
              "          const element = document.querySelector('#df-96c3d224-0cfc-4168-8a2c-88c6aaa36e0f');\n",
              "          const dataTable =\n",
              "            await google.colab.kernel.invokeFunction('convertToInteractive',\n",
              "                                                     [key], {});\n",
              "          if (!dataTable) return;\n",
              "\n",
              "          const docLinkHtml = 'Like what you see? Visit the ' +\n",
              "            '<a target=\"_blank\" href=https://colab.research.google.com/notebooks/data_table.ipynb>data table notebook</a>'\n",
              "            + ' to learn more about interactive tables.';\n",
              "          element.innerHTML = '';\n",
              "          dataTable['output_type'] = 'display_data';\n",
              "          await google.colab.output.renderOutput(dataTable, element);\n",
              "          const docLink = document.createElement('div');\n",
              "          docLink.innerHTML = docLinkHtml;\n",
              "          element.appendChild(docLink);\n",
              "        }\n",
              "      </script>\n",
              "    </div>\n",
              "  </div>\n",
              "  "
            ]
          },
          "metadata": {},
          "execution_count": 64
        }
      ]
    },
    {
      "cell_type": "code",
      "source": [
        "# Computing the similarities for \n",
        "similarities = cosine_similarity(top200_tfidf_word_vectors_m31, \n",
        "                                 top200_tfidf_word_vectors_m31)"
      ],
      "metadata": {
        "id": "fDWmIjK_akt0"
      },
      "execution_count": null,
      "outputs": []
    },
    {
      "cell_type": "code",
      "source": [
        "import matplotlib.pyplot as plt\n",
        "import seaborn as sns"
      ],
      "metadata": {
        "id": "PPyX4PAJWxNG"
      },
      "execution_count": null,
      "outputs": []
    },
    {
      "cell_type": "code",
      "source": [
        "fig, ax = plt.subplots(figsize=(40, 40))\n",
        "sns.heatmap(ax=ax, \n",
        "            data=similarities,\n",
        "            xticklabels=top200_tfidf_word_vectors_m31.index, \n",
        "            yticklabels=top200_tfidf_word_vectors_m31.index)"
      ],
      "metadata": {
        "colab": {
          "base_uri": "https://localhost:8080/",
          "height": 1000
        },
        "id": "x49mStJSa8Uw",
        "outputId": "d24afe99-b742-4099-a3ee-c15ee3c27b7e"
      },
      "execution_count": null,
      "outputs": [
        {
          "output_type": "execute_result",
          "data": {
            "text/plain": [
              "<matplotlib.axes._subplots.AxesSubplot at 0x7fc002beab50>"
            ]
          },
          "metadata": {},
          "execution_count": 67
        },
        {
          "output_type": "display_data",
          "data": {
            "text/plain": [
              "<Figure size 2880x2880 with 2 Axes>"
            ],
            "image/png": "[encoded data removed]"
          },
          "metadata": {
            "needs_background": "light"
          }
        }
      ]
    },
    {
      "cell_type": "markdown",
      "source": [
        "## Doc2Vec"
      ],
      "metadata": {
        "id": "Etqzw6zxgZG7"
      }
    },
    {
      "cell_type": "code",
      "source": [
        "dfw.head(1)"
      ],
      "metadata": {
        "colab": {
          "base_uri": "https://localhost:8080/",
          "height": 81
        },
        "id": "RaYvjq_mfkow",
        "outputId": "f238a019-893a-4c77-ea8c-173444897078"
      },
      "execution_count": null,
      "outputs": [
        {
          "output_type": "execute_result",
          "data": {
            "text/plain": [
              "                                       cleaned_title  \\\n",
              "0  life insurance claim would valid case death du...   \n",
              "\n",
              "                                               token  \n",
              "0  [life, insurance, claim, would, valid, case, d...  "
            ],
            "text/html": [
              "\n",
              "  <div id=\"df-bec3d25e-c42e-4e11-a193-1f79fca09459\">\n",
              "    <div class=\"colab-df-container\">\n",
              "      <div>\n",
              "<style scoped>\n",
              "    .dataframe tbody tr th:only-of-type {\n",
              "        vertical-align: middle;\n",
              "    }\n",
              "\n",
              "    .dataframe tbody tr th {\n",
              "        vertical-align: top;\n",
              "    }\n",
              "\n",
              "    .dataframe thead th {\n",
              "        text-align: right;\n",
              "    }\n",
              "</style>\n",
              "<table border=\"1\" class=\"dataframe\">\n",
              "  <thead>\n",
              "    <tr style=\"text-align: right;\">\n",
              "      <th></th>\n",
              "      <th>cleaned_title</th>\n",
              "      <th>token</th>\n",
              "    </tr>\n",
              "  </thead>\n",
              "  <tbody>\n",
              "    <tr>\n",
              "      <th>0</th>\n",
              "      <td>life insurance claim would valid case death du...</td>\n",
              "      <td>[life, insurance, claim, would, valid, case, d...</td>\n",
              "    </tr>\n",
              "  </tbody>\n",
              "</table>\n",
              "</div>\n",
              "      <button class=\"colab-df-convert\" onclick=\"convertToInteractive('df-bec3d25e-c42e-4e11-a193-1f79fca09459')\"\n",
              "              title=\"Convert this dataframe to an interactive table.\"\n",
              "              style=\"display:none;\">\n",
              "        \n",
              "  <svg xmlns=\"http://www.w3.org/2000/svg\" height=\"24px\"viewBox=\"0 0 24 24\"\n",
              "       width=\"24px\">\n",
              "    <path d=\"M0 0h24v24H0V0z\" fill=\"none\"/>\n",
              "    <path d=\"M18.56 5.44l.94 2.06.94-2.06 2.06-.94-2.06-.94-.94-2.06-.94 2.06-2.06.94zm-11 1L8.5 8.5l.94-2.06 2.06-.94-2.06-.94L8.5 2.5l-.94 2.06-2.06.94zm10 10l.94 2.06.94-2.06 2.06-.94-2.06-.94-.94-2.06-.94 2.06-2.06.94z\"/><path d=\"M17.41 7.96l-1.37-1.37c-.4-.4-.92-.59-1.43-.59-.52 0-1.04.2-1.43.59L10.3 9.45l-7.72 7.72c-.78.78-.78 2.05 0 2.83L4 21.41c.39.39.9.59 1.41.59.51 0 1.02-.2 1.41-.59l7.78-7.78 2.81-2.81c.8-.78.8-2.07 0-2.86zM5.41 20L4 18.59l7.72-7.72 1.47 1.35L5.41 20z\"/>\n",
              "  </svg>\n",
              "      </button>\n",
              "      \n",
              "  <style>\n",
              "    .colab-df-container {\n",
              "      display:flex;\n",
              "      flex-wrap:wrap;\n",
              "      gap: 12px;\n",
              "    }\n",
              "\n",
              "    .colab-df-convert {\n",
              "      background-color: #E8F0FE;\n",
              "      border: none;\n",
              "      border-radius: 50%;\n",
              "      cursor: pointer;\n",
              "      display: none;\n",
              "      fill: #1967D2;\n",
              "      height: 32px;\n",
              "      padding: 0 0 0 0;\n",
              "      width: 32px;\n",
              "    }\n",
              "\n",
              "    .colab-df-convert:hover {\n",
              "      background-color: #E2EBFA;\n",
              "      box-shadow: 0px 1px 2px rgba(60, 64, 67, 0.3), 0px 1px 3px 1px rgba(60, 64, 67, 0.15);\n",
              "      fill: #174EA6;\n",
              "    }\n",
              "\n",
              "    [theme=dark] .colab-df-convert {\n",
              "      background-color: #3B4455;\n",
              "      fill: #D2E3FC;\n",
              "    }\n",
              "\n",
              "    [theme=dark] .colab-df-convert:hover {\n",
              "      background-color: #434B5C;\n",
              "      box-shadow: 0px 1px 3px 1px rgba(0, 0, 0, 0.15);\n",
              "      filter: drop-shadow(0px 1px 2px rgba(0, 0, 0, 0.3));\n",
              "      fill: #FFFFFF;\n",
              "    }\n",
              "  </style>\n",
              "\n",
              "      <script>\n",
              "        const buttonEl =\n",
              "          document.querySelector('#df-bec3d25e-c42e-4e11-a193-1f79fca09459 button.colab-df-convert');\n",
              "        buttonEl.style.display =\n",
              "          google.colab.kernel.accessAllowed ? 'block' : 'none';\n",
              "\n",
              "        async function convertToInteractive(key) {\n",
              "          const element = document.querySelector('#df-bec3d25e-c42e-4e11-a193-1f79fca09459');\n",
              "          const dataTable =\n",
              "            await google.colab.kernel.invokeFunction('convertToInteractive',\n",
              "                                                     [key], {});\n",
              "          if (!dataTable) return;\n",
              "\n",
              "          const docLinkHtml = 'Like what you see? Visit the ' +\n",
              "            '<a target=\"_blank\" href=https://colab.research.google.com/notebooks/data_table.ipynb>data table notebook</a>'\n",
              "            + ' to learn more about interactive tables.';\n",
              "          element.innerHTML = '';\n",
              "          dataTable['output_type'] = 'display_data';\n",
              "          await google.colab.output.renderOutput(dataTable, element);\n",
              "          const docLink = document.createElement('div');\n",
              "          docLink.innerHTML = docLinkHtml;\n",
              "          element.appendChild(docLink);\n",
              "        }\n",
              "      </script>\n",
              "    </div>\n",
              "  </div>\n",
              "  "
            ]
          },
          "metadata": {},
          "execution_count": 68
        }
      ]
    },
    {
      "cell_type": "code",
      "source": [
        "review_token3 = dfw['token']"
      ],
      "metadata": {
        "id": "Q5j3c9uwgiyC"
      },
      "execution_count": null,
      "outputs": []
    },
    {
      "cell_type": "code",
      "source": [
        "review_token3"
      ],
      "metadata": {
        "colab": {
          "base_uri": "https://localhost:8080/"
        },
        "id": "9JgdvOyWgyZS",
        "outputId": "83fedfb0-3d3a-4ae9-ef1c-8d0fe88ea74c"
      },
      "execution_count": null,
      "outputs": [
        {
          "output_type": "execute_result",
          "data": {
            "text/plain": [
              "0      [life, insurance, claim, would, valid, case, d...\n",
              "1      [woman, manage, money, well, men, step, peculi...\n",
              "2      [sell, equity, buy, gold, instead, amfi, see, ...\n",
              "3      [planning, summer, holiday, five, co, branded,...\n",
              "4      [explained, crypto, taxation, work, india, hyp...\n",
              "                             ...                        \n",
              "109    [government, privatisation, push, danger, dela...\n",
              "110    [sound, exit, strategy, crucial, enjoying, ben...\n",
              "111    [cloud, hang, u, chipmakers, worry, data, cent...\n",
              "112    [urge, caution, dog, catch, monkeypox, canadia...\n",
              "113    [uk, spy, chief, jeremy, fleming, say, vladimi...\n",
              "Name: token, Length: 114, dtype: object"
            ]
          },
          "metadata": {},
          "execution_count": 70
        }
      ]
    },
    {
      "cell_type": "code",
      "source": [
        "tagged_documents = [TaggedDocument(review_token, [i]) \n",
        "                    for i, review_token in enumerate(review_token3)]\n",
        "tagged_documents[0]"
      ],
      "metadata": {
        "colab": {
          "base_uri": "https://localhost:8080/"
        },
        "id": "MkWiOVN5g00W",
        "outputId": "fa99146e-841d-4970-c989-12d0be412fad"
      },
      "execution_count": null,
      "outputs": [
        {
          "output_type": "execute_result",
          "data": {
            "text/plain": [
              "TaggedDocument(words=['life', 'insurance', 'claim', 'would', 'valid', 'case', 'death', 'due', 'war', 'need', 'know', 'inflation', 'monster', 'eat', 'saving', 'antidote', 'investment', 'motherhood', 'ahead', 'plan', 'child', 'expense', 'build', 'kitty'], tags=[0])"
            ]
          },
          "metadata": {},
          "execution_count": 71
        }
      ]
    },
    {
      "cell_type": "code",
      "source": [
        "doc2vec_model = Doc2Vec(tagged_documents, \n",
        "                            vector_size=200, ##Embedding size 200 --> Change for other sizes\n",
        "                            window=3, \n",
        "                            min_count=2) "
      ],
      "metadata": {
        "id": "46ayFH8bhOPZ",
        "colab": {
          "base_uri": "https://localhost:8080/"
        },
        "outputId": "c3ece708-929b-4dd5-d5c3-87d4bd774541"
      },
      "execution_count": null,
      "outputs": [
        {
          "output_type": "stream",
          "name": "stderr",
          "text": [
            "WARNING:gensim.models.base_any2vec:under 10 jobs per worker: consider setting a smaller `batch_words' for smoother alpha decay\n"
          ]
        }
      ]
    },
    {
      "cell_type": "code",
      "source": [
        "doc2vec_df = pd.DataFrame()\n",
        "for r in review_token3: \n",
        "    vector = pd.DataFrame(doc2vec_model.infer_vector(r)).transpose()\n",
        "    doc2vec_df = pd.concat([doc2vec_df, vector], axis=0)\n",
        "\n",
        "doc2vec_df.index = dataset.index"
      ],
      "metadata": {
        "id": "aj9d1JythYY3"
      },
      "execution_count": null,
      "outputs": []
    },
    {
      "cell_type": "code",
      "source": [
        "doc2vec_df.shape"
      ],
      "metadata": {
        "colab": {
          "base_uri": "https://localhost:8080/"
        },
        "id": "_ypSBJlthq_n",
        "outputId": "1b5f3099-2a83-4563-ea92-a12cf43822c8"
      },
      "execution_count": null,
      "outputs": [
        {
          "output_type": "execute_result",
          "data": {
            "text/plain": [
              "(114, 200)"
            ]
          },
          "metadata": {},
          "execution_count": 74
        }
      ]
    },
    {
      "cell_type": "code",
      "source": [
        "doc2vec_df.head()"
      ],
      "metadata": {
        "colab": {
          "base_uri": "https://localhost:8080/",
          "height": 299
        },
        "id": "gTi_aurQhyY4",
        "outputId": "f704a94e-d560-4179-ac65-70be99f3770e"
      },
      "execution_count": null,
      "outputs": [
        {
          "output_type": "execute_result",
          "data": {
            "text/plain": [
              "        0         1         2         3         4         5         6    \\\n",
              "0  0.017594 -0.005294 -0.006608  0.004841 -0.026089  0.011916  0.008776   \n",
              "1  0.076060 -0.009795 -0.029642  0.018086 -0.095596  0.041171  0.030178   \n",
              "2  0.017844 -0.001957 -0.007787  0.004061 -0.017806  0.010460  0.004259   \n",
              "3  0.043750 -0.005633 -0.018292  0.010223 -0.050949  0.020619  0.017624   \n",
              "4  0.031943 -0.002479 -0.011074  0.006859 -0.039522  0.016125  0.014497   \n",
              "\n",
              "        7         8         9    ...       190       191       192       193  \\\n",
              "0 -0.035574 -0.039391 -0.007637  ... -0.055861 -0.005728 -0.048134  0.003797   \n",
              "1 -0.150225 -0.157922 -0.020437  ... -0.216367 -0.031649 -0.188768  0.008171   \n",
              "2 -0.030559 -0.033421 -0.003371  ... -0.041540 -0.008518 -0.038096  0.001156   \n",
              "3 -0.080774 -0.085764 -0.011946  ... -0.118903 -0.017108 -0.105876  0.005192   \n",
              "4 -0.058053 -0.063446 -0.006020  ... -0.086172 -0.014486 -0.074374  0.005990   \n",
              "\n",
              "        194       195       196       197       198       199  \n",
              "0 -0.060121 -0.038045 -0.006534 -0.047259  0.057582  0.024579  \n",
              "1 -0.238690 -0.151208 -0.033269 -0.185156  0.231164  0.090674  \n",
              "2 -0.049147 -0.032491 -0.008781 -0.037423  0.047016  0.021483  \n",
              "3 -0.131539 -0.084520 -0.017527 -0.103808  0.129371  0.051151  \n",
              "4 -0.094483 -0.060278 -0.013550 -0.073064  0.091344  0.035765  \n",
              "\n",
              "[5 rows x 200 columns]"
            ],
            "text/html": [
              "\n",
              "  <div id=\"df-848e3d56-e583-4b76-a872-dbc7cdd568ce\">\n",
              "    <div class=\"colab-df-container\">\n",
              "      <div>\n",
              "<style scoped>\n",
              "    .dataframe tbody tr th:only-of-type {\n",
              "        vertical-align: middle;\n",
              "    }\n",
              "\n",
              "    .dataframe tbody tr th {\n",
              "        vertical-align: top;\n",
              "    }\n",
              "\n",
              "    .dataframe thead th {\n",
              "        text-align: right;\n",
              "    }\n",
              "</style>\n",
              "<table border=\"1\" class=\"dataframe\">\n",
              "  <thead>\n",
              "    <tr style=\"text-align: right;\">\n",
              "      <th></th>\n",
              "      <th>0</th>\n",
              "      <th>1</th>\n",
              "      <th>2</th>\n",
              "      <th>3</th>\n",
              "      <th>4</th>\n",
              "      <th>5</th>\n",
              "      <th>6</th>\n",
              "      <th>7</th>\n",
              "      <th>8</th>\n",
              "      <th>9</th>\n",
              "      <th>...</th>\n",
              "      <th>190</th>\n",
              "      <th>191</th>\n",
              "      <th>192</th>\n",
              "      <th>193</th>\n",
              "      <th>194</th>\n",
              "      <th>195</th>\n",
              "      <th>196</th>\n",
              "      <th>197</th>\n",
              "      <th>198</th>\n",
              "      <th>199</th>\n",
              "    </tr>\n",
              "  </thead>\n",
              "  <tbody>\n",
              "    <tr>\n",
              "      <th>0</th>\n",
              "      <td>0.017594</td>\n",
              "      <td>-0.005294</td>\n",
              "      <td>-0.006608</td>\n",
              "      <td>0.004841</td>\n",
              "      <td>-0.026089</td>\n",
              "      <td>0.011916</td>\n",
              "      <td>0.008776</td>\n",
              "      <td>-0.035574</td>\n",
              "      <td>-0.039391</td>\n",
              "      <td>-0.007637</td>\n",
              "      <td>...</td>\n",
              "      <td>-0.055861</td>\n",
              "      <td>-0.005728</td>\n",
              "      <td>-0.048134</td>\n",
              "      <td>0.003797</td>\n",
              "      <td>-0.060121</td>\n",
              "      <td>-0.038045</td>\n",
              "      <td>-0.006534</td>\n",
              "      <td>-0.047259</td>\n",
              "      <td>0.057582</td>\n",
              "      <td>0.024579</td>\n",
              "    </tr>\n",
              "    <tr>\n",
              "      <th>1</th>\n",
              "      <td>0.076060</td>\n",
              "      <td>-0.009795</td>\n",
              "      <td>-0.029642</td>\n",
              "      <td>0.018086</td>\n",
              "      <td>-0.095596</td>\n",
              "      <td>0.041171</td>\n",
              "      <td>0.030178</td>\n",
              "      <td>-0.150225</td>\n",
              "      <td>-0.157922</td>\n",
              "      <td>-0.020437</td>\n",
              "      <td>...</td>\n",
              "      <td>-0.216367</td>\n",
              "      <td>-0.031649</td>\n",
              "      <td>-0.188768</td>\n",
              "      <td>0.008171</td>\n",
              "      <td>-0.238690</td>\n",
              "      <td>-0.151208</td>\n",
              "      <td>-0.033269</td>\n",
              "      <td>-0.185156</td>\n",
              "      <td>0.231164</td>\n",
              "      <td>0.090674</td>\n",
              "    </tr>\n",
              "    <tr>\n",
              "      <th>2</th>\n",
              "      <td>0.017844</td>\n",
              "      <td>-0.001957</td>\n",
              "      <td>-0.007787</td>\n",
              "      <td>0.004061</td>\n",
              "      <td>-0.017806</td>\n",
              "      <td>0.010460</td>\n",
              "      <td>0.004259</td>\n",
              "      <td>-0.030559</td>\n",
              "      <td>-0.033421</td>\n",
              "      <td>-0.003371</td>\n",
              "      <td>...</td>\n",
              "      <td>-0.041540</td>\n",
              "      <td>-0.008518</td>\n",
              "      <td>-0.038096</td>\n",
              "      <td>0.001156</td>\n",
              "      <td>-0.049147</td>\n",
              "      <td>-0.032491</td>\n",
              "      <td>-0.008781</td>\n",
              "      <td>-0.037423</td>\n",
              "      <td>0.047016</td>\n",
              "      <td>0.021483</td>\n",
              "    </tr>\n",
              "    <tr>\n",
              "      <th>3</th>\n",
              "      <td>0.043750</td>\n",
              "      <td>-0.005633</td>\n",
              "      <td>-0.018292</td>\n",
              "      <td>0.010223</td>\n",
              "      <td>-0.050949</td>\n",
              "      <td>0.020619</td>\n",
              "      <td>0.017624</td>\n",
              "      <td>-0.080774</td>\n",
              "      <td>-0.085764</td>\n",
              "      <td>-0.011946</td>\n",
              "      <td>...</td>\n",
              "      <td>-0.118903</td>\n",
              "      <td>-0.017108</td>\n",
              "      <td>-0.105876</td>\n",
              "      <td>0.005192</td>\n",
              "      <td>-0.131539</td>\n",
              "      <td>-0.084520</td>\n",
              "      <td>-0.017527</td>\n",
              "      <td>-0.103808</td>\n",
              "      <td>0.129371</td>\n",
              "      <td>0.051151</td>\n",
              "    </tr>\n",
              "    <tr>\n",
              "      <th>4</th>\n",
              "      <td>0.031943</td>\n",
              "      <td>-0.002479</td>\n",
              "      <td>-0.011074</td>\n",
              "      <td>0.006859</td>\n",
              "      <td>-0.039522</td>\n",
              "      <td>0.016125</td>\n",
              "      <td>0.014497</td>\n",
              "      <td>-0.058053</td>\n",
              "      <td>-0.063446</td>\n",
              "      <td>-0.006020</td>\n",
              "      <td>...</td>\n",
              "      <td>-0.086172</td>\n",
              "      <td>-0.014486</td>\n",
              "      <td>-0.074374</td>\n",
              "      <td>0.005990</td>\n",
              "      <td>-0.094483</td>\n",
              "      <td>-0.060278</td>\n",
              "      <td>-0.013550</td>\n",
              "      <td>-0.073064</td>\n",
              "      <td>0.091344</td>\n",
              "      <td>0.035765</td>\n",
              "    </tr>\n",
              "  </tbody>\n",
              "</table>\n",
              "<p>5 rows × 200 columns</p>\n",
              "</div>\n",
              "      <button class=\"colab-df-convert\" onclick=\"convertToInteractive('df-848e3d56-e583-4b76-a872-dbc7cdd568ce')\"\n",
              "              title=\"Convert this dataframe to an interactive table.\"\n",
              "              style=\"display:none;\">\n",
              "        \n",
              "  <svg xmlns=\"http://www.w3.org/2000/svg\" height=\"24px\"viewBox=\"0 0 24 24\"\n",
              "       width=\"24px\">\n",
              "    <path d=\"M0 0h24v24H0V0z\" fill=\"none\"/>\n",
              "    <path d=\"M18.56 5.44l.94 2.06.94-2.06 2.06-.94-2.06-.94-.94-2.06-.94 2.06-2.06.94zm-11 1L8.5 8.5l.94-2.06 2.06-.94-2.06-.94L8.5 2.5l-.94 2.06-2.06.94zm10 10l.94 2.06.94-2.06 2.06-.94-2.06-.94-.94-2.06-.94 2.06-2.06.94z\"/><path d=\"M17.41 7.96l-1.37-1.37c-.4-.4-.92-.59-1.43-.59-.52 0-1.04.2-1.43.59L10.3 9.45l-7.72 7.72c-.78.78-.78 2.05 0 2.83L4 21.41c.39.39.9.59 1.41.59.51 0 1.02-.2 1.41-.59l7.78-7.78 2.81-2.81c.8-.78.8-2.07 0-2.86zM5.41 20L4 18.59l7.72-7.72 1.47 1.35L5.41 20z\"/>\n",
              "  </svg>\n",
              "      </button>\n",
              "      \n",
              "  <style>\n",
              "    .colab-df-container {\n",
              "      display:flex;\n",
              "      flex-wrap:wrap;\n",
              "      gap: 12px;\n",
              "    }\n",
              "\n",
              "    .colab-df-convert {\n",
              "      background-color: #E8F0FE;\n",
              "      border: none;\n",
              "      border-radius: 50%;\n",
              "      cursor: pointer;\n",
              "      display: none;\n",
              "      fill: #1967D2;\n",
              "      height: 32px;\n",
              "      padding: 0 0 0 0;\n",
              "      width: 32px;\n",
              "    }\n",
              "\n",
              "    .colab-df-convert:hover {\n",
              "      background-color: #E2EBFA;\n",
              "      box-shadow: 0px 1px 2px rgba(60, 64, 67, 0.3), 0px 1px 3px 1px rgba(60, 64, 67, 0.15);\n",
              "      fill: #174EA6;\n",
              "    }\n",
              "\n",
              "    [theme=dark] .colab-df-convert {\n",
              "      background-color: #3B4455;\n",
              "      fill: #D2E3FC;\n",
              "    }\n",
              "\n",
              "    [theme=dark] .colab-df-convert:hover {\n",
              "      background-color: #434B5C;\n",
              "      box-shadow: 0px 1px 3px 1px rgba(0, 0, 0, 0.15);\n",
              "      filter: drop-shadow(0px 1px 2px rgba(0, 0, 0, 0.3));\n",
              "      fill: #FFFFFF;\n",
              "    }\n",
              "  </style>\n",
              "\n",
              "      <script>\n",
              "        const buttonEl =\n",
              "          document.querySelector('#df-848e3d56-e583-4b76-a872-dbc7cdd568ce button.colab-df-convert');\n",
              "        buttonEl.style.display =\n",
              "          google.colab.kernel.accessAllowed ? 'block' : 'none';\n",
              "\n",
              "        async function convertToInteractive(key) {\n",
              "          const element = document.querySelector('#df-848e3d56-e583-4b76-a872-dbc7cdd568ce');\n",
              "          const dataTable =\n",
              "            await google.colab.kernel.invokeFunction('convertToInteractive',\n",
              "                                                     [key], {});\n",
              "          if (!dataTable) return;\n",
              "\n",
              "          const docLinkHtml = 'Like what you see? Visit the ' +\n",
              "            '<a target=\"_blank\" href=https://colab.research.google.com/notebooks/data_table.ipynb>data table notebook</a>'\n",
              "            + ' to learn more about interactive tables.';\n",
              "          element.innerHTML = '';\n",
              "          dataTable['output_type'] = 'display_data';\n",
              "          await google.colab.output.renderOutput(dataTable, element);\n",
              "          const docLink = document.createElement('div');\n",
              "          docLink.innerHTML = docLinkHtml;\n",
              "          element.appendChild(docLink);\n",
              "        }\n",
              "      </script>\n",
              "    </div>\n",
              "  </div>\n",
              "  "
            ]
          },
          "metadata": {},
          "execution_count": 75
        }
      ]
    },
    {
      "cell_type": "markdown",
      "source": [
        "# Sentiment Analysis"
      ],
      "metadata": {
        "id": "ZsN0hZe-Xqb2"
      }
    },
    {
      "cell_type": "code",
      "source": [
        "from sklearn.model_selection import train_test_split\n",
        "from sklearn.svm import SVC\n",
        "from sklearn.linear_model import LogisticRegression\n",
        "from sklearn.naive_bayes import MultinomialNB\n",
        "from sklearn.ensemble import RandomForestClassifier\n",
        "from sklearn.metrics import accuracy_score, classification_report"
      ],
      "metadata": {
        "id": "ADx8p_Oah2El"
      },
      "execution_count": null,
      "outputs": []
    },
    {
      "cell_type": "code",
      "source": [
        "labels = np.where(dataset.sentiment == 'negative', 0, 1)"
      ],
      "metadata": {
        "id": "i3EG-e4AhqXr"
      },
      "execution_count": null,
      "outputs": []
    },
    {
      "cell_type": "code",
      "source": [
        "dataset.sentiment.value_counts()"
      ],
      "metadata": {
        "colab": {
          "base_uri": "https://localhost:8080/"
        },
        "id": "mlDim0VPXr8r",
        "outputId": "440f78c8-5615-4644-dac7-3dfbc9f5ff41"
      },
      "execution_count": null,
      "outputs": [
        {
          "output_type": "execute_result",
          "data": {
            "text/plain": [
              "positive    68\n",
              "negative    45\n",
              "neutral      1\n",
              "Name: sentiment, dtype: int64"
            ]
          },
          "metadata": {},
          "execution_count": 78
        }
      ]
    },
    {
      "cell_type": "code",
      "source": [
        "X_train, X_test, y_train, y_test = train_test_split(doc2vec_df, labels,\n",
        "                                                    test_size=0.33,\n",
        "                                                    random_state=20130810)"
      ],
      "metadata": {
        "id": "vUSTcCEKq1nO"
      },
      "execution_count": null,
      "outputs": []
    },
    {
      "cell_type": "code",
      "source": [
        "X =pd.concat((X_train,X_test),axis=0)"
      ],
      "metadata": {
        "id": "ytY96zAW1Je-"
      },
      "execution_count": null,
      "outputs": []
    },
    {
      "cell_type": "markdown",
      "source": [
        "## Random Forest"
      ],
      "metadata": {
        "id": "juiZ57uElW8a"
      }
    },
    {
      "cell_type": "code",
      "source": [
        "model_RF = RandomForestClassifier()"
      ],
      "metadata": {
        "id": "oFKKkzVdjBs2"
      },
      "execution_count": null,
      "outputs": []
    },
    {
      "cell_type": "code",
      "source": [
        "for C_value in [1, 100, 500, 1000, 5000, 10000]:\n",
        "    model_RF = RandomForestClassifier(n_estimators=C_value)\n",
        "    model_RF.fit(X_train, y_train)\n",
        "    y_pred = model_RF.predict(X_test)\n",
        "    acc = accuracy_score(y_test, y_pred) \n",
        "    print(f\"C: {C_value}, Accuracy: {acc}\")"
      ],
      "metadata": {
        "colab": {
          "base_uri": "https://localhost:8080/"
        },
        "id": "mjOwQfDmjBu4",
        "outputId": "0610aa02-9dd5-4353-aa70-31dcbfb31391"
      },
      "execution_count": null,
      "outputs": [
        {
          "output_type": "stream",
          "name": "stdout",
          "text": [
            "C: 1, Accuracy: 0.47368421052631576\n",
            "C: 100, Accuracy: 0.42105263157894735\n",
            "C: 500, Accuracy: 0.47368421052631576\n",
            "C: 1000, Accuracy: 0.4473684210526316\n",
            "C: 5000, Accuracy: 0.47368421052631576\n",
            "C: 10000, Accuracy: 0.4473684210526316\n"
          ]
        }
      ]
    },
    {
      "cell_type": "code",
      "source": [
        "model_RF = RandomForestClassifier(n_estimators=5000)\n",
        "model_RF.fit(X_train, y_train)"
      ],
      "metadata": {
        "colab": {
          "base_uri": "https://localhost:8080/"
        },
        "id": "frAi-5fHjtKd",
        "outputId": "829953ad-567a-4c20-aeca-4048f2553bb0"
      },
      "execution_count": null,
      "outputs": [
        {
          "output_type": "execute_result",
          "data": {
            "text/plain": [
              "RandomForestClassifier(n_estimators=5000)"
            ]
          },
          "metadata": {},
          "execution_count": 83
        }
      ]
    },
    {
      "cell_type": "code",
      "source": [
        "model_RF.predict(X_test)"
      ],
      "metadata": {
        "colab": {
          "base_uri": "https://localhost:8080/"
        },
        "id": "WtEcRKfKjtMv",
        "outputId": "87b22e9f-eb77-4308-8220-cecc223d2404"
      },
      "execution_count": null,
      "outputs": [
        {
          "output_type": "execute_result",
          "data": {
            "text/plain": [
              "array([1, 1, 0, 0, 0, 0, 1, 0, 1, 1, 1, 0, 0, 1, 1, 1, 1, 0, 0, 0, 1, 0,\n",
              "       1, 1, 1, 1, 0, 1, 1, 1, 1, 0, 0, 1, 1, 1, 1, 0])"
            ]
          },
          "metadata": {},
          "execution_count": 84
        }
      ]
    },
    {
      "cell_type": "code",
      "source": [
        "rf_score = model_RF.predict_proba(X)[:,1]"
      ],
      "metadata": {
        "id": "eES1JkiVwi76"
      },
      "execution_count": null,
      "outputs": []
    },
    {
      "cell_type": "code",
      "source": [
        "rf_score"
      ],
      "metadata": {
        "colab": {
          "base_uri": "https://localhost:8080/"
        },
        "id": "RxDmgo8D3E1o",
        "outputId": "190c84bf-24dc-4322-da9d-606e50c7a0c2"
      },
      "execution_count": null,
      "outputs": [
        {
          "output_type": "execute_result",
          "data": {
            "text/plain": [
              "array([0.9544, 0.954 , 0.9278, 0.8618, 0.893 , 0.195 , 0.834 , 0.9544,\n",
              "       0.9456, 0.8094, 0.8882, 0.7488, 0.3296, 0.7576, 0.7646, 0.3446,\n",
              "       0.729 , 0.3196, 0.2946, 0.7118, 0.783 , 0.7368, 0.2618, 0.8948,\n",
              "       0.9746, 0.721 , 0.162 , 0.2   , 0.8176, 0.8772, 0.9324, 0.2732,\n",
              "       0.9272, 0.9378, 0.2542, 0.9596, 0.1272, 0.903 , 0.1318, 0.139 ,\n",
              "       0.807 , 0.3152, 0.7132, 0.1346, 0.7754, 0.1206, 0.9426, 0.1518,\n",
              "       0.8206, 0.1798, 0.2332, 0.928 , 0.6906, 0.9106, 0.3364, 0.898 ,\n",
              "       0.6838, 0.2722, 0.9776, 0.8616, 0.8484, 0.9486, 0.2548, 0.3018,\n",
              "       0.753 , 0.1478, 0.2336, 0.8938, 0.204 , 0.1268, 0.7562, 0.9306,\n",
              "       0.8822, 0.8508, 0.1492, 0.152 , 0.9348, 0.6284, 0.4698, 0.3614,\n",
              "       0.243 , 0.3842, 0.8698, 0.4886, 0.7836, 0.8184, 0.8382, 0.4936,\n",
              "       0.4368, 0.8858, 0.5934, 0.5318, 0.6972, 0.478 , 0.4514, 0.3702,\n",
              "       0.9246, 0.491 , 0.6128, 0.8204, 0.8302, 0.7192, 0.3474, 0.7968,\n",
              "       0.855 , 0.6002, 0.5562, 0.4264, 0.4704, 0.6816, 0.7928, 0.8522,\n",
              "       0.5222, 0.4886])"
            ]
          },
          "metadata": {},
          "execution_count": 86
        }
      ]
    },
    {
      "cell_type": "code",
      "source": [
        "pd.DataFrame(np.array(rf_score)).to_csv('M&M_rf_score.csv',index=False)"
      ],
      "metadata": {
        "id": "5ru5RmHY0KF4"
      },
      "execution_count": null,
      "outputs": []
    },
    {
      "cell_type": "code",
      "source": [
        "print(classification_report(y_test, model_RF.predict(X_test)))\n",
        "#print(classification_report(y_test, model_RF.predict(X_test)))"
      ],
      "metadata": {
        "colab": {
          "base_uri": "https://localhost:8080/"
        },
        "id": "zs44arGkjuIh",
        "outputId": "60eebe74-4dbd-4215-ff56-1af9e72aec41"
      },
      "execution_count": null,
      "outputs": [
        {
          "output_type": "stream",
          "name": "stdout",
          "text": [
            "              precision    recall  f1-score   support\n",
            "\n",
            "           0       0.33      0.31      0.32        16\n",
            "           1       0.52      0.55      0.53        22\n",
            "\n",
            "    accuracy                           0.45        38\n",
            "   macro avg       0.43      0.43      0.43        38\n",
            "weighted avg       0.44      0.45      0.44        38\n",
            "\n"
          ]
        }
      ]
    }
  ]
}